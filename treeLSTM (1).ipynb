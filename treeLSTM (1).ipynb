{
  "nbformat": 4,
  "nbformat_minor": 0,
  "metadata": {
    "colab": {
      "provenance": []
    },
    "kernelspec": {
      "name": "python3",
      "display_name": "Python 3"
    },
    "language_info": {
      "name": "python"
    }
  },
  "cells": [
    {
      "cell_type": "code",
      "source": [
        "# Compositional Tree‑LSTM Playground\n",
        "# Enter a sentence, watch a constituency tree grow and see a vector\n",
        "# (hidden state) at every node. This is a clean, minimal pipeline."
      ],
      "metadata": {
        "id": "yrNVrgmxONFV"
      },
      "execution_count": 1,
      "outputs": []
    },
    {
      "cell_type": "code",
      "source": [
        "# *Python ≥ 3.9 recommended; GPU optional.*\n",
        "!pip install -q spacy benepar transformers torch rich\n",
        "!python -m spacy download en_core_web_sm\n",
        "!python -m benepar.download 'benepar_en3'"
      ],
      "metadata": {
        "colab": {
          "base_uri": "https://localhost:8080/"
        },
        "id": "NDAi0rmkObtX",
        "outputId": "bd31e6d0-6052-4e2b-adda-ece3ca583f3e"
      },
      "execution_count": 22,
      "outputs": [
        {
          "output_type": "stream",
          "name": "stdout",
          "text": [
            "Collecting en-core-web-sm==3.8.0\n",
            "  Downloading https://github.com/explosion/spacy-models/releases/download/en_core_web_sm-3.8.0/en_core_web_sm-3.8.0-py3-none-any.whl (12.8 MB)\n",
            "\u001b[2K     \u001b[90m━━━━━━━━━━━━━━━━━━━━━━━━━━━━━━━━━━━━━━━\u001b[0m \u001b[32m12.8/12.8 MB\u001b[0m \u001b[31m105.8 MB/s\u001b[0m eta \u001b[36m0:00:00\u001b[0m\n",
            "\u001b[?25h\u001b[38;5;2m✔ Download and installation successful\u001b[0m\n",
            "You can now load the package via spacy.load('en_core_web_sm')\n",
            "\u001b[38;5;3m⚠ Restart to reload dependencies\u001b[0m\n",
            "If you are in a Jupyter or Colab notebook, you may need to restart Python in\n",
            "order to load all the package's dependencies. You can do this by selecting the\n",
            "'Restart kernel' or 'Restart runtime' option.\n",
            "/usr/bin/python3: No module named benepar.download\n"
          ]
        }
      ]
    },
    {
      "cell_type": "code",
      "source": [
        "import torch, torch.nn as nn\n",
        "import spacy, benepar\n",
        "from transformers import AutoModel, AutoTokenizer\n",
        "from rich import print  # nicer tree printing"
      ],
      "metadata": {
        "id": "n5rvFQWlOjL-"
      },
      "execution_count": 23,
      "outputs": []
    },
    {
      "cell_type": "code",
      "source": [
        "# NLP models\n",
        "\n",
        "# Download the parser model\n",
        "benepar.download('benepar_en3')\n",
        "\n",
        "# Load spaCy and add Benepar\n",
        "nlp = spacy.load(\"en_core_web_sm\")\n",
        "nlp.add_pipe(\"benepar\", config={\"model\": \"benepar_en3\"})\n",
        "\n",
        "# Load tokenizer\n",
        "tok_name = \"bert-base-uncased\"\n",
        "tokenizer = AutoTokenizer.from_pretrained(tok_name)\n",
        "\n",
        "DEVICE     = torch.device(\"cuda\" if torch.cuda.is_available() else \"cpu\")\n",
        "bert      = AutoModel.from_pretrained('bert-base-uncased').to(DEVICE)"
      ],
      "metadata": {
        "colab": {
          "base_uri": "https://localhost:8080/"
        },
        "id": "fqNBt8v1OnNP",
        "outputId": "18b91b13-f3f1-42d4-ece2-4aed0b5cbe44"
      },
      "execution_count": 24,
      "outputs": [
        {
          "output_type": "stream",
          "name": "stderr",
          "text": [
            "[nltk_data] Downloading package benepar_en3 to /root/nltk_data...\n",
            "[nltk_data]   Package benepar_en3 is already up-to-date!\n"
          ]
        }
      ]
    },
    {
      "cell_type": "code",
      "source": [
        "# Sentence input\n",
        "SENTENCE = \"Julia kindly gave milk to a very friendly new neighbor after going to the river bank\"\n",
        "doc = nlp(SENTENCE)\n",
        "\n",
        "sent = list(doc.sents)[0]\n",
        "tree_str = sent._.parse_string\n",
        "print(tree_str)"
      ],
      "metadata": {
        "colab": {
          "base_uri": "https://localhost:8080/",
          "height": 102
        },
        "id": "IoXBb5RIOwLH",
        "outputId": "cee056f0-9149-46ff-c551-37652f06010c"
      },
      "execution_count": 25,
      "outputs": [
        {
          "output_type": "stream",
          "name": "stderr",
          "text": [
            "You're using a T5TokenizerFast tokenizer. Please note that with a fast tokenizer, using the `__call__` method is faster than using a method to encode the text followed by a call to the `pad` method to get a padded encoding.\n"
          ]
        },
        {
          "output_type": "display_data",
          "data": {
            "text/plain": [
              "\u001b[1m(\u001b[0mS \u001b[1m(\u001b[0mNP \u001b[1m(\u001b[0mNNP Julia\u001b[1m)\u001b[0m\u001b[1m)\u001b[0m \u001b[1m(\u001b[0mADVP \u001b[1m(\u001b[0mRB kindly\u001b[1m)\u001b[0m\u001b[1m)\u001b[0m \u001b[1m(\u001b[0mVP \u001b[1m(\u001b[0mVBD gave\u001b[1m)\u001b[0m \u001b[1m(\u001b[0mNP \u001b[1m(\u001b[0mNN milk\u001b[1m)\u001b[0m\u001b[1m)\u001b[0m \u001b[1m(\u001b[0mPP \u001b[1m(\u001b[0mIN to\u001b[1m)\u001b[0m \u001b[1m(\u001b[0mNP \u001b[1m(\u001b[0mDT a\u001b[1m)\u001b[0m \u001b[1m(\u001b[0mADJP \u001b[1m(\u001b[0mRB very\u001b[1m)\u001b[0m \u001b[1m(\u001b[0mJJ \n",
              "friendly\u001b[1m)\u001b[0m\u001b[1m)\u001b[0m \u001b[1m(\u001b[0mJJ new\u001b[1m)\u001b[0m \u001b[1m(\u001b[0mNN neighbor\u001b[1m)\u001b[0m\u001b[1m)\u001b[0m\u001b[1m)\u001b[0m \u001b[1m(\u001b[0mPP \u001b[1m(\u001b[0mIN after\u001b[1m)\u001b[0m \u001b[1m(\u001b[0mS \u001b[1m(\u001b[0mVP \u001b[1m(\u001b[0mVBG going\u001b[1m)\u001b[0m \u001b[1m(\u001b[0mPP \u001b[1m(\u001b[0mIN to\u001b[1m)\u001b[0m \u001b[1m(\u001b[0mNP \u001b[1m(\u001b[0mDT the\u001b[1m)\u001b[0m \u001b[1m(\u001b[0mNN river\u001b[1m)\u001b[0m \u001b[1m(\u001b[0mNN \n",
              "bank\u001b[1m)\u001b[0m\u001b[1m)\u001b[0m\u001b[1m)\u001b[0m\u001b[1m)\u001b[0m\u001b[1m)\u001b[0m\u001b[1m)\u001b[0m\u001b[1m)\u001b[0m\u001b[1m)\u001b[0m\n"
            ],
            "text/html": [
              "<pre style=\"white-space:pre;overflow-x:auto;line-height:normal;font-family:Menlo,'DejaVu Sans Mono',consolas,'Courier New',monospace\"><span style=\"font-weight: bold\">(</span>S <span style=\"font-weight: bold\">(</span>NP <span style=\"font-weight: bold\">(</span>NNP Julia<span style=\"font-weight: bold\">))</span> <span style=\"font-weight: bold\">(</span>ADVP <span style=\"font-weight: bold\">(</span>RB kindly<span style=\"font-weight: bold\">))</span> <span style=\"font-weight: bold\">(</span>VP <span style=\"font-weight: bold\">(</span>VBD gave<span style=\"font-weight: bold\">)</span> <span style=\"font-weight: bold\">(</span>NP <span style=\"font-weight: bold\">(</span>NN milk<span style=\"font-weight: bold\">))</span> <span style=\"font-weight: bold\">(</span>PP <span style=\"font-weight: bold\">(</span>IN to<span style=\"font-weight: bold\">)</span> <span style=\"font-weight: bold\">(</span>NP <span style=\"font-weight: bold\">(</span>DT a<span style=\"font-weight: bold\">)</span> <span style=\"font-weight: bold\">(</span>ADJP <span style=\"font-weight: bold\">(</span>RB very<span style=\"font-weight: bold\">)</span> <span style=\"font-weight: bold\">(</span>JJ \n",
              "friendly<span style=\"font-weight: bold\">))</span> <span style=\"font-weight: bold\">(</span>JJ new<span style=\"font-weight: bold\">)</span> <span style=\"font-weight: bold\">(</span>NN neighbor<span style=\"font-weight: bold\">)))</span> <span style=\"font-weight: bold\">(</span>PP <span style=\"font-weight: bold\">(</span>IN after<span style=\"font-weight: bold\">)</span> <span style=\"font-weight: bold\">(</span>S <span style=\"font-weight: bold\">(</span>VP <span style=\"font-weight: bold\">(</span>VBG going<span style=\"font-weight: bold\">)</span> <span style=\"font-weight: bold\">(</span>PP <span style=\"font-weight: bold\">(</span>IN to<span style=\"font-weight: bold\">)</span> <span style=\"font-weight: bold\">(</span>NP <span style=\"font-weight: bold\">(</span>DT the<span style=\"font-weight: bold\">)</span> <span style=\"font-weight: bold\">(</span>NN river<span style=\"font-weight: bold\">)</span> <span style=\"font-weight: bold\">(</span>NN \n",
              "bank<span style=\"font-weight: bold\">))))))))</span>\n",
              "</pre>\n"
            ]
          },
          "metadata": {}
        }
      ]
    },
    {
      "cell_type": "code",
      "source": [
        "print(sent._.labels)\n",
        "print(list(sent._.children))"
      ],
      "metadata": {
        "colab": {
          "base_uri": "https://localhost:8080/",
          "height": 49
        },
        "id": "Zpg-PveOYvTB",
        "outputId": "82c39c00-16b1-420f-9749-c9b61cb42180"
      },
      "execution_count": 26,
      "outputs": [
        {
          "output_type": "display_data",
          "data": {
            "text/plain": [
              "\u001b[1m(\u001b[0m\u001b[32m'S'\u001b[0m,\u001b[1m)\u001b[0m\n"
            ],
            "text/html": [
              "<pre style=\"white-space:pre;overflow-x:auto;line-height:normal;font-family:Menlo,'DejaVu Sans Mono',consolas,'Courier New',monospace\"><span style=\"font-weight: bold\">(</span><span style=\"color: #008000; text-decoration-color: #008000\">'S'</span>,<span style=\"font-weight: bold\">)</span>\n",
              "</pre>\n"
            ]
          },
          "metadata": {}
        },
        {
          "output_type": "display_data",
          "data": {
            "text/plain": [
              "\u001b[1m[\u001b[0mJulia, kindly, gave milk to a very friendly new neighbor after going to the river bank\u001b[1m]\u001b[0m\n"
            ],
            "text/html": [
              "<pre style=\"white-space:pre;overflow-x:auto;line-height:normal;font-family:Menlo,'DejaVu Sans Mono',consolas,'Courier New',monospace\"><span style=\"font-weight: bold\">[</span>Julia, kindly, gave milk to a very friendly new neighbor after going to the river bank<span style=\"font-weight: bold\">]</span>\n",
              "</pre>\n"
            ]
          },
          "metadata": {}
        }
      ]
    },
    {
      "cell_type": "code",
      "source": [
        "from typing import List\n",
        "\n",
        "class Node:\n",
        "    def __init__(self, label:str, span:tuple, children:List['Node']=None):\n",
        "        self.label    = label\n",
        "        self.span     = span       # (start_idx, end_idx) in spaCy tokens\n",
        "        self.children = children or []\n",
        "        self.h = self.c = None\n",
        "\n",
        "    def is_leaf(self):\n",
        "        return not self.children\n",
        "\n",
        "    def __repr__(self):\n",
        "        return f\"{self.label} {self.span}\"\n",
        "\n",
        "def build_tree(span):\n",
        "    \"\"\"\n",
        "    Recursively build our Node tree from a benepar-annotated spaCy Span.\n",
        "    `span` (e.g. a sentence Span) should have the benepar’s extensions:\n",
        "      span._.labels, span._.children, span.start, span.end\n",
        "    \"\"\"\n",
        "    # If no sub-constituents, it’s a leaf token\n",
        "    children_spans = list(span._.children)\n",
        "    if not children_spans:\n",
        "        return Node(\"TOKEN\", (span.start, span.end))\n",
        "\n",
        "    # Otherwise, build child Nodes\n",
        "    children = [build_tree(child) for child in children_spans]\n",
        "    # Use the first label on this span (most trees have exactly one)\n",
        "    label = span._.labels[0] if span._.labels else \"UNKNOWN\"\n",
        "    return Node(label, (span.start, span.end), children)"
      ],
      "metadata": {
        "id": "9oAOxShQO_Bk"
      },
      "execution_count": 27,
      "outputs": []
    },
    {
      "cell_type": "code",
      "source": [
        "def print_node_tree(node, tokens, indent=0):\n",
        "    if node.is_leaf():\n",
        "        text = tokens[node.span[0]].text\n",
        "        print(\" \" * indent + f\"{node.label} {node.span} → '{text}'\")\n",
        "    else:\n",
        "        print(\" \" * indent + f\"{node.label} {node.span}\")\n",
        "        for child in node.children:\n",
        "            print_node_tree(child, tokens, indent + 2)\n",
        "\n",
        "root = build_tree(sent)\n",
        "tokens = list(sent)\n",
        "print_node_tree(root, tokens)"
      ],
      "metadata": {
        "colab": {
          "base_uri": "https://localhost:8080/",
          "height": 417
        },
        "id": "8TOUG6zFaYVy",
        "outputId": "821495eb-0a73-48df-dda9-8d48d1898b24"
      },
      "execution_count": 28,
      "outputs": [
        {
          "output_type": "display_data",
          "data": {
            "text/plain": [
              "S \u001b[1m(\u001b[0m\u001b[1;36m0\u001b[0m, \u001b[1;36m16\u001b[0m\u001b[1m)\u001b[0m\n"
            ],
            "text/html": [
              "<pre style=\"white-space:pre;overflow-x:auto;line-height:normal;font-family:Menlo,'DejaVu Sans Mono',consolas,'Courier New',monospace\">S <span style=\"font-weight: bold\">(</span><span style=\"color: #008080; text-decoration-color: #008080; font-weight: bold\">0</span>, <span style=\"color: #008080; text-decoration-color: #008080; font-weight: bold\">16</span><span style=\"font-weight: bold\">)</span>\n",
              "</pre>\n"
            ]
          },
          "metadata": {}
        },
        {
          "output_type": "display_data",
          "data": {
            "text/plain": [
              "  TOKEN \u001b[1m(\u001b[0m\u001b[1;36m0\u001b[0m, \u001b[1;36m1\u001b[0m\u001b[1m)\u001b[0m → \u001b[32m'Julia'\u001b[0m\n"
            ],
            "text/html": [
              "<pre style=\"white-space:pre;overflow-x:auto;line-height:normal;font-family:Menlo,'DejaVu Sans Mono',consolas,'Courier New',monospace\">  TOKEN <span style=\"font-weight: bold\">(</span><span style=\"color: #008080; text-decoration-color: #008080; font-weight: bold\">0</span>, <span style=\"color: #008080; text-decoration-color: #008080; font-weight: bold\">1</span><span style=\"font-weight: bold\">)</span> → <span style=\"color: #008000; text-decoration-color: #008000\">'Julia'</span>\n",
              "</pre>\n"
            ]
          },
          "metadata": {}
        },
        {
          "output_type": "display_data",
          "data": {
            "text/plain": [
              "  TOKEN \u001b[1m(\u001b[0m\u001b[1;36m1\u001b[0m, \u001b[1;36m2\u001b[0m\u001b[1m)\u001b[0m → \u001b[32m'kindly'\u001b[0m\n"
            ],
            "text/html": [
              "<pre style=\"white-space:pre;overflow-x:auto;line-height:normal;font-family:Menlo,'DejaVu Sans Mono',consolas,'Courier New',monospace\">  TOKEN <span style=\"font-weight: bold\">(</span><span style=\"color: #008080; text-decoration-color: #008080; font-weight: bold\">1</span>, <span style=\"color: #008080; text-decoration-color: #008080; font-weight: bold\">2</span><span style=\"font-weight: bold\">)</span> → <span style=\"color: #008000; text-decoration-color: #008000\">'kindly'</span>\n",
              "</pre>\n"
            ]
          },
          "metadata": {}
        },
        {
          "output_type": "display_data",
          "data": {
            "text/plain": [
              "  VP \u001b[1m(\u001b[0m\u001b[1;36m2\u001b[0m, \u001b[1;36m16\u001b[0m\u001b[1m)\u001b[0m\n"
            ],
            "text/html": [
              "<pre style=\"white-space:pre;overflow-x:auto;line-height:normal;font-family:Menlo,'DejaVu Sans Mono',consolas,'Courier New',monospace\">  VP <span style=\"font-weight: bold\">(</span><span style=\"color: #008080; text-decoration-color: #008080; font-weight: bold\">2</span>, <span style=\"color: #008080; text-decoration-color: #008080; font-weight: bold\">16</span><span style=\"font-weight: bold\">)</span>\n",
              "</pre>\n"
            ]
          },
          "metadata": {}
        },
        {
          "output_type": "display_data",
          "data": {
            "text/plain": [
              "    TOKEN \u001b[1m(\u001b[0m\u001b[1;36m2\u001b[0m, \u001b[1;36m3\u001b[0m\u001b[1m)\u001b[0m → \u001b[32m'gave'\u001b[0m\n"
            ],
            "text/html": [
              "<pre style=\"white-space:pre;overflow-x:auto;line-height:normal;font-family:Menlo,'DejaVu Sans Mono',consolas,'Courier New',monospace\">    TOKEN <span style=\"font-weight: bold\">(</span><span style=\"color: #008080; text-decoration-color: #008080; font-weight: bold\">2</span>, <span style=\"color: #008080; text-decoration-color: #008080; font-weight: bold\">3</span><span style=\"font-weight: bold\">)</span> → <span style=\"color: #008000; text-decoration-color: #008000\">'gave'</span>\n",
              "</pre>\n"
            ]
          },
          "metadata": {}
        },
        {
          "output_type": "display_data",
          "data": {
            "text/plain": [
              "    TOKEN \u001b[1m(\u001b[0m\u001b[1;36m3\u001b[0m, \u001b[1;36m4\u001b[0m\u001b[1m)\u001b[0m → \u001b[32m'milk'\u001b[0m\n"
            ],
            "text/html": [
              "<pre style=\"white-space:pre;overflow-x:auto;line-height:normal;font-family:Menlo,'DejaVu Sans Mono',consolas,'Courier New',monospace\">    TOKEN <span style=\"font-weight: bold\">(</span><span style=\"color: #008080; text-decoration-color: #008080; font-weight: bold\">3</span>, <span style=\"color: #008080; text-decoration-color: #008080; font-weight: bold\">4</span><span style=\"font-weight: bold\">)</span> → <span style=\"color: #008000; text-decoration-color: #008000\">'milk'</span>\n",
              "</pre>\n"
            ]
          },
          "metadata": {}
        },
        {
          "output_type": "display_data",
          "data": {
            "text/plain": [
              "    PP \u001b[1m(\u001b[0m\u001b[1;36m4\u001b[0m, \u001b[1;36m10\u001b[0m\u001b[1m)\u001b[0m\n"
            ],
            "text/html": [
              "<pre style=\"white-space:pre;overflow-x:auto;line-height:normal;font-family:Menlo,'DejaVu Sans Mono',consolas,'Courier New',monospace\">    PP <span style=\"font-weight: bold\">(</span><span style=\"color: #008080; text-decoration-color: #008080; font-weight: bold\">4</span>, <span style=\"color: #008080; text-decoration-color: #008080; font-weight: bold\">10</span><span style=\"font-weight: bold\">)</span>\n",
              "</pre>\n"
            ]
          },
          "metadata": {}
        },
        {
          "output_type": "display_data",
          "data": {
            "text/plain": [
              "      TOKEN \u001b[1m(\u001b[0m\u001b[1;36m4\u001b[0m, \u001b[1;36m5\u001b[0m\u001b[1m)\u001b[0m → \u001b[32m'to'\u001b[0m\n"
            ],
            "text/html": [
              "<pre style=\"white-space:pre;overflow-x:auto;line-height:normal;font-family:Menlo,'DejaVu Sans Mono',consolas,'Courier New',monospace\">      TOKEN <span style=\"font-weight: bold\">(</span><span style=\"color: #008080; text-decoration-color: #008080; font-weight: bold\">4</span>, <span style=\"color: #008080; text-decoration-color: #008080; font-weight: bold\">5</span><span style=\"font-weight: bold\">)</span> → <span style=\"color: #008000; text-decoration-color: #008000\">'to'</span>\n",
              "</pre>\n"
            ]
          },
          "metadata": {}
        },
        {
          "output_type": "display_data",
          "data": {
            "text/plain": [
              "      NP \u001b[1m(\u001b[0m\u001b[1;36m5\u001b[0m, \u001b[1;36m10\u001b[0m\u001b[1m)\u001b[0m\n"
            ],
            "text/html": [
              "<pre style=\"white-space:pre;overflow-x:auto;line-height:normal;font-family:Menlo,'DejaVu Sans Mono',consolas,'Courier New',monospace\">      NP <span style=\"font-weight: bold\">(</span><span style=\"color: #008080; text-decoration-color: #008080; font-weight: bold\">5</span>, <span style=\"color: #008080; text-decoration-color: #008080; font-weight: bold\">10</span><span style=\"font-weight: bold\">)</span>\n",
              "</pre>\n"
            ]
          },
          "metadata": {}
        },
        {
          "output_type": "display_data",
          "data": {
            "text/plain": [
              "        TOKEN \u001b[1m(\u001b[0m\u001b[1;36m5\u001b[0m, \u001b[1;36m6\u001b[0m\u001b[1m)\u001b[0m → \u001b[32m'a'\u001b[0m\n"
            ],
            "text/html": [
              "<pre style=\"white-space:pre;overflow-x:auto;line-height:normal;font-family:Menlo,'DejaVu Sans Mono',consolas,'Courier New',monospace\">        TOKEN <span style=\"font-weight: bold\">(</span><span style=\"color: #008080; text-decoration-color: #008080; font-weight: bold\">5</span>, <span style=\"color: #008080; text-decoration-color: #008080; font-weight: bold\">6</span><span style=\"font-weight: bold\">)</span> → <span style=\"color: #008000; text-decoration-color: #008000\">'a'</span>\n",
              "</pre>\n"
            ]
          },
          "metadata": {}
        },
        {
          "output_type": "display_data",
          "data": {
            "text/plain": [
              "        ADJP \u001b[1m(\u001b[0m\u001b[1;36m6\u001b[0m, \u001b[1;36m8\u001b[0m\u001b[1m)\u001b[0m\n"
            ],
            "text/html": [
              "<pre style=\"white-space:pre;overflow-x:auto;line-height:normal;font-family:Menlo,'DejaVu Sans Mono',consolas,'Courier New',monospace\">        ADJP <span style=\"font-weight: bold\">(</span><span style=\"color: #008080; text-decoration-color: #008080; font-weight: bold\">6</span>, <span style=\"color: #008080; text-decoration-color: #008080; font-weight: bold\">8</span><span style=\"font-weight: bold\">)</span>\n",
              "</pre>\n"
            ]
          },
          "metadata": {}
        },
        {
          "output_type": "display_data",
          "data": {
            "text/plain": [
              "          TOKEN \u001b[1m(\u001b[0m\u001b[1;36m6\u001b[0m, \u001b[1;36m7\u001b[0m\u001b[1m)\u001b[0m → \u001b[32m'very'\u001b[0m\n"
            ],
            "text/html": [
              "<pre style=\"white-space:pre;overflow-x:auto;line-height:normal;font-family:Menlo,'DejaVu Sans Mono',consolas,'Courier New',monospace\">          TOKEN <span style=\"font-weight: bold\">(</span><span style=\"color: #008080; text-decoration-color: #008080; font-weight: bold\">6</span>, <span style=\"color: #008080; text-decoration-color: #008080; font-weight: bold\">7</span><span style=\"font-weight: bold\">)</span> → <span style=\"color: #008000; text-decoration-color: #008000\">'very'</span>\n",
              "</pre>\n"
            ]
          },
          "metadata": {}
        },
        {
          "output_type": "display_data",
          "data": {
            "text/plain": [
              "          TOKEN \u001b[1m(\u001b[0m\u001b[1;36m7\u001b[0m, \u001b[1;36m8\u001b[0m\u001b[1m)\u001b[0m → \u001b[32m'friendly'\u001b[0m\n"
            ],
            "text/html": [
              "<pre style=\"white-space:pre;overflow-x:auto;line-height:normal;font-family:Menlo,'DejaVu Sans Mono',consolas,'Courier New',monospace\">          TOKEN <span style=\"font-weight: bold\">(</span><span style=\"color: #008080; text-decoration-color: #008080; font-weight: bold\">7</span>, <span style=\"color: #008080; text-decoration-color: #008080; font-weight: bold\">8</span><span style=\"font-weight: bold\">)</span> → <span style=\"color: #008000; text-decoration-color: #008000\">'friendly'</span>\n",
              "</pre>\n"
            ]
          },
          "metadata": {}
        },
        {
          "output_type": "display_data",
          "data": {
            "text/plain": [
              "        TOKEN \u001b[1m(\u001b[0m\u001b[1;36m8\u001b[0m, \u001b[1;36m9\u001b[0m\u001b[1m)\u001b[0m → \u001b[32m'new'\u001b[0m\n"
            ],
            "text/html": [
              "<pre style=\"white-space:pre;overflow-x:auto;line-height:normal;font-family:Menlo,'DejaVu Sans Mono',consolas,'Courier New',monospace\">        TOKEN <span style=\"font-weight: bold\">(</span><span style=\"color: #008080; text-decoration-color: #008080; font-weight: bold\">8</span>, <span style=\"color: #008080; text-decoration-color: #008080; font-weight: bold\">9</span><span style=\"font-weight: bold\">)</span> → <span style=\"color: #008000; text-decoration-color: #008000\">'new'</span>\n",
              "</pre>\n"
            ]
          },
          "metadata": {}
        },
        {
          "output_type": "display_data",
          "data": {
            "text/plain": [
              "        TOKEN \u001b[1m(\u001b[0m\u001b[1;36m9\u001b[0m, \u001b[1;36m10\u001b[0m\u001b[1m)\u001b[0m → \u001b[32m'neighbor'\u001b[0m\n"
            ],
            "text/html": [
              "<pre style=\"white-space:pre;overflow-x:auto;line-height:normal;font-family:Menlo,'DejaVu Sans Mono',consolas,'Courier New',monospace\">        TOKEN <span style=\"font-weight: bold\">(</span><span style=\"color: #008080; text-decoration-color: #008080; font-weight: bold\">9</span>, <span style=\"color: #008080; text-decoration-color: #008080; font-weight: bold\">10</span><span style=\"font-weight: bold\">)</span> → <span style=\"color: #008000; text-decoration-color: #008000\">'neighbor'</span>\n",
              "</pre>\n"
            ]
          },
          "metadata": {}
        },
        {
          "output_type": "display_data",
          "data": {
            "text/plain": [
              "    PP \u001b[1m(\u001b[0m\u001b[1;36m10\u001b[0m, \u001b[1;36m16\u001b[0m\u001b[1m)\u001b[0m\n"
            ],
            "text/html": [
              "<pre style=\"white-space:pre;overflow-x:auto;line-height:normal;font-family:Menlo,'DejaVu Sans Mono',consolas,'Courier New',monospace\">    PP <span style=\"font-weight: bold\">(</span><span style=\"color: #008080; text-decoration-color: #008080; font-weight: bold\">10</span>, <span style=\"color: #008080; text-decoration-color: #008080; font-weight: bold\">16</span><span style=\"font-weight: bold\">)</span>\n",
              "</pre>\n"
            ]
          },
          "metadata": {}
        },
        {
          "output_type": "display_data",
          "data": {
            "text/plain": [
              "      TOKEN \u001b[1m(\u001b[0m\u001b[1;36m10\u001b[0m, \u001b[1;36m11\u001b[0m\u001b[1m)\u001b[0m → \u001b[32m'after'\u001b[0m\n"
            ],
            "text/html": [
              "<pre style=\"white-space:pre;overflow-x:auto;line-height:normal;font-family:Menlo,'DejaVu Sans Mono',consolas,'Courier New',monospace\">      TOKEN <span style=\"font-weight: bold\">(</span><span style=\"color: #008080; text-decoration-color: #008080; font-weight: bold\">10</span>, <span style=\"color: #008080; text-decoration-color: #008080; font-weight: bold\">11</span><span style=\"font-weight: bold\">)</span> → <span style=\"color: #008000; text-decoration-color: #008000\">'after'</span>\n",
              "</pre>\n"
            ]
          },
          "metadata": {}
        },
        {
          "output_type": "display_data",
          "data": {
            "text/plain": [
              "      S \u001b[1m(\u001b[0m\u001b[1;36m11\u001b[0m, \u001b[1;36m16\u001b[0m\u001b[1m)\u001b[0m\n"
            ],
            "text/html": [
              "<pre style=\"white-space:pre;overflow-x:auto;line-height:normal;font-family:Menlo,'DejaVu Sans Mono',consolas,'Courier New',monospace\">      S <span style=\"font-weight: bold\">(</span><span style=\"color: #008080; text-decoration-color: #008080; font-weight: bold\">11</span>, <span style=\"color: #008080; text-decoration-color: #008080; font-weight: bold\">16</span><span style=\"font-weight: bold\">)</span>\n",
              "</pre>\n"
            ]
          },
          "metadata": {}
        },
        {
          "output_type": "display_data",
          "data": {
            "text/plain": [
              "        TOKEN \u001b[1m(\u001b[0m\u001b[1;36m11\u001b[0m, \u001b[1;36m12\u001b[0m\u001b[1m)\u001b[0m → \u001b[32m'going'\u001b[0m\n"
            ],
            "text/html": [
              "<pre style=\"white-space:pre;overflow-x:auto;line-height:normal;font-family:Menlo,'DejaVu Sans Mono',consolas,'Courier New',monospace\">        TOKEN <span style=\"font-weight: bold\">(</span><span style=\"color: #008080; text-decoration-color: #008080; font-weight: bold\">11</span>, <span style=\"color: #008080; text-decoration-color: #008080; font-weight: bold\">12</span><span style=\"font-weight: bold\">)</span> → <span style=\"color: #008000; text-decoration-color: #008000\">'going'</span>\n",
              "</pre>\n"
            ]
          },
          "metadata": {}
        },
        {
          "output_type": "display_data",
          "data": {
            "text/plain": [
              "        PP \u001b[1m(\u001b[0m\u001b[1;36m12\u001b[0m, \u001b[1;36m16\u001b[0m\u001b[1m)\u001b[0m\n"
            ],
            "text/html": [
              "<pre style=\"white-space:pre;overflow-x:auto;line-height:normal;font-family:Menlo,'DejaVu Sans Mono',consolas,'Courier New',monospace\">        PP <span style=\"font-weight: bold\">(</span><span style=\"color: #008080; text-decoration-color: #008080; font-weight: bold\">12</span>, <span style=\"color: #008080; text-decoration-color: #008080; font-weight: bold\">16</span><span style=\"font-weight: bold\">)</span>\n",
              "</pre>\n"
            ]
          },
          "metadata": {}
        },
        {
          "output_type": "display_data",
          "data": {
            "text/plain": [
              "          TOKEN \u001b[1m(\u001b[0m\u001b[1;36m12\u001b[0m, \u001b[1;36m13\u001b[0m\u001b[1m)\u001b[0m → \u001b[32m'to'\u001b[0m\n"
            ],
            "text/html": [
              "<pre style=\"white-space:pre;overflow-x:auto;line-height:normal;font-family:Menlo,'DejaVu Sans Mono',consolas,'Courier New',monospace\">          TOKEN <span style=\"font-weight: bold\">(</span><span style=\"color: #008080; text-decoration-color: #008080; font-weight: bold\">12</span>, <span style=\"color: #008080; text-decoration-color: #008080; font-weight: bold\">13</span><span style=\"font-weight: bold\">)</span> → <span style=\"color: #008000; text-decoration-color: #008000\">'to'</span>\n",
              "</pre>\n"
            ]
          },
          "metadata": {}
        },
        {
          "output_type": "display_data",
          "data": {
            "text/plain": [
              "          NP \u001b[1m(\u001b[0m\u001b[1;36m13\u001b[0m, \u001b[1;36m16\u001b[0m\u001b[1m)\u001b[0m\n"
            ],
            "text/html": [
              "<pre style=\"white-space:pre;overflow-x:auto;line-height:normal;font-family:Menlo,'DejaVu Sans Mono',consolas,'Courier New',monospace\">          NP <span style=\"font-weight: bold\">(</span><span style=\"color: #008080; text-decoration-color: #008080; font-weight: bold\">13</span>, <span style=\"color: #008080; text-decoration-color: #008080; font-weight: bold\">16</span><span style=\"font-weight: bold\">)</span>\n",
              "</pre>\n"
            ]
          },
          "metadata": {}
        },
        {
          "output_type": "display_data",
          "data": {
            "text/plain": [
              "            TOKEN \u001b[1m(\u001b[0m\u001b[1;36m13\u001b[0m, \u001b[1;36m14\u001b[0m\u001b[1m)\u001b[0m → \u001b[32m'the'\u001b[0m\n"
            ],
            "text/html": [
              "<pre style=\"white-space:pre;overflow-x:auto;line-height:normal;font-family:Menlo,'DejaVu Sans Mono',consolas,'Courier New',monospace\">            TOKEN <span style=\"font-weight: bold\">(</span><span style=\"color: #008080; text-decoration-color: #008080; font-weight: bold\">13</span>, <span style=\"color: #008080; text-decoration-color: #008080; font-weight: bold\">14</span><span style=\"font-weight: bold\">)</span> → <span style=\"color: #008000; text-decoration-color: #008000\">'the'</span>\n",
              "</pre>\n"
            ]
          },
          "metadata": {}
        },
        {
          "output_type": "display_data",
          "data": {
            "text/plain": [
              "            TOKEN \u001b[1m(\u001b[0m\u001b[1;36m14\u001b[0m, \u001b[1;36m15\u001b[0m\u001b[1m)\u001b[0m → \u001b[32m'river'\u001b[0m\n"
            ],
            "text/html": [
              "<pre style=\"white-space:pre;overflow-x:auto;line-height:normal;font-family:Menlo,'DejaVu Sans Mono',consolas,'Courier New',monospace\">            TOKEN <span style=\"font-weight: bold\">(</span><span style=\"color: #008080; text-decoration-color: #008080; font-weight: bold\">14</span>, <span style=\"color: #008080; text-decoration-color: #008080; font-weight: bold\">15</span><span style=\"font-weight: bold\">)</span> → <span style=\"color: #008000; text-decoration-color: #008000\">'river'</span>\n",
              "</pre>\n"
            ]
          },
          "metadata": {}
        },
        {
          "output_type": "display_data",
          "data": {
            "text/plain": [
              "            TOKEN \u001b[1m(\u001b[0m\u001b[1;36m15\u001b[0m, \u001b[1;36m16\u001b[0m\u001b[1m)\u001b[0m → \u001b[32m'bank'\u001b[0m\n"
            ],
            "text/html": [
              "<pre style=\"white-space:pre;overflow-x:auto;line-height:normal;font-family:Menlo,'DejaVu Sans Mono',consolas,'Courier New',monospace\">            TOKEN <span style=\"font-weight: bold\">(</span><span style=\"color: #008080; text-decoration-color: #008080; font-weight: bold\">15</span>, <span style=\"color: #008080; text-decoration-color: #008080; font-weight: bold\">16</span><span style=\"font-weight: bold\">)</span> → <span style=\"color: #008000; text-decoration-color: #008000\">'bank'</span>\n",
              "</pre>\n"
            ]
          },
          "metadata": {}
        }
      ]
    },
    {
      "cell_type": "code",
      "source": [
        "d_in       = 768\n",
        "num_tokens = len(list(sent))\n",
        "vec_lookup = torch.randn(num_tokens, d_in, device=DEVICE)"
      ],
      "metadata": {
        "id": "QUFK0p8sbSiy"
      },
      "execution_count": 29,
      "outputs": []
    },
    {
      "cell_type": "code",
      "source": [
        "class ChildSumTreeLSTM(nn.Module):\n",
        "    \"\"\"\n",
        "    Child-Sum Tree-LSTM module.\n",
        "\n",
        "    This implementation performs a bottom-up composition on a tree structure:\n",
        "      - Leaf nodes receive a fixed input embedding.\n",
        "      - Internal nodes aggregate their children's hidden states via LSTM-style gating.\n",
        "\n",
        "    Attributes:\n",
        "        W_iou (nn.Linear): projects input vector to 3*d_hidden for input, output, update gates.\n",
        "        U_iou (nn.Linear): projects sum of child hidden states to 3*d_hidden for gates.\n",
        "        W_f (nn.Linear): projects input vector to d_hidden for forget gates.\n",
        "        U_f (nn.Linear): projects each child hidden state to d_hidden for forget gates.\n",
        "        d_hidden (int): dimensionality of hidden states.\n",
        "    \"\"\"\n",
        "\n",
        "    def __init__(self, d_in=768, d_hidden=768):\n",
        "        super().__init__()\n",
        "        self.W_iou = nn.Linear(d_in, 3 * d_hidden)\n",
        "        self.U_iou = nn.Linear(d_hidden, 3 * d_hidden, bias=False)\n",
        "        self.W_f   = nn.Linear(d_in, d_hidden)\n",
        "        self.U_f   = nn.Linear(d_hidden, d_hidden, bias=False)\n",
        "        self.d_hidden = d_hidden\n",
        "\n",
        "    def forward(self, node):\n",
        "        \"\"\"\n",
        "        Recursively compute hidden (h) and cell (c) states for each node.\n",
        "\n",
        "        Args:\n",
        "            node: a Node object with .span, .children, .h, .c attributes.\n",
        "        Returns:\n",
        "            (h, c): tensors of shape (d_hidden,) for this node.\n",
        "        \"\"\"\n",
        "        # Leaf case: inject precomputed embedding and zero cell state\n",
        "        if node.is_leaf():\n",
        "            h = vec_lookup[node.span[0]]      # embedding for this token\n",
        "            c = torch.zeros_like(h)           # zero cell state\n",
        "            node.h, node.c = h, c\n",
        "            return h, c\n",
        "\n",
        "        # Internal node: compose children states\n",
        "        child_states = [self.forward(ch) for ch in node.children]\n",
        "        h_sum = torch.stack([h for h, _ in child_states]).sum(dim=0)\n",
        "        x_j = h_sum / len(child_states)      # average child hidden\n",
        "\n",
        "        # Compute input, output, update gates\n",
        "        iou = self.W_iou(x_j) + self.U_iou(h_sum)\n",
        "        i, o, u = iou.chunk(3, dim=-1)\n",
        "        i = torch.sigmoid(i)\n",
        "        o = torch.sigmoid(o)\n",
        "        u = torch.tanh(u)\n",
        "\n",
        "        # New cell state starts from input modulation\n",
        "        c = i * u\n",
        "        # Add forget-gated child cell contributions\n",
        "        for h_k, c_k in child_states:\n",
        "            f_k = torch.sigmoid(self.W_f(x_j) + self.U_f(h_k))\n",
        "            c = c + f_k * c_k\n",
        "\n",
        "        # Hidden state: output gate applied to tanh(c)\n",
        "        h = o * torch.tanh(c)\n",
        "        node.h, node.c = h, c\n",
        "        return h, c\n",
        "\n",
        "\n",
        "class ChildSumTreeLSTMWithGates(ChildSumTreeLSTM):\n",
        "    \"\"\"\n",
        "    Extension that records mean forget-gate values for visualization.\n",
        "\n",
        "    After computing f_k for each child, stores:\n",
        "        child.f_gate = mean value of f_k\n",
        "    \"\"\"\n",
        "\n",
        "    def forward(self, node):\n",
        "        # Leaf case (same as base)\n",
        "        if node.is_leaf():\n",
        "            h = vec_lookup[node.span[0]]\n",
        "            c = torch.zeros(self.d_hidden, device=h.device)\n",
        "            node.h, node.c = h, c\n",
        "            return h, c\n",
        "\n",
        "        # Internal nodes\n",
        "        child_states = [self.forward(ch) for ch in node.children]\n",
        "        h_sum = torch.stack([h for h, _ in child_states]).sum(dim=0)\n",
        "        x_j = h_sum / len(child_states)\n",
        "\n",
        "        # Gates\n",
        "        iou = self.W_iou(x_j) + self.U_iou(h_sum)\n",
        "        i, o, u = iou.chunk(3, dim=-1)\n",
        "        i = torch.sigmoid(i)\n",
        "        o = torch.sigmoid(o)\n",
        "        u = torch.tanh(u)\n",
        "\n",
        "        # New cell state\n",
        "        c = i * u\n",
        "        # Record forget gate per child\n",
        "        for child, (h_k, c_k) in zip(node.children, child_states):\n",
        "            f_k = torch.sigmoid(self.W_f(x_j) + self.U_f(h_k))\n",
        "            c = c + f_k * c_k\n",
        "            child.f_gate = float(f_k.mean().item())\n",
        "\n",
        "        # Hidden state\n",
        "        h = o * torch.tanh(c)\n",
        "        node.h, node.c = h, c\n",
        "        return h, c"
      ],
      "metadata": {
        "id": "BJbW5W7JPXS1"
      },
      "execution_count": 30,
      "outputs": []
    },
    {
      "cell_type": "code",
      "source": [
        "encoded = tokenizer(\n",
        "  [tok.text for tok in doc],\n",
        "  is_split_into_words=True,\n",
        "  return_tensors=\"pt\",\n",
        "  padding=True, truncation=True\n",
        ").to(DEVICE)"
      ],
      "metadata": {
        "id": "5zXY6JImeVdR"
      },
      "execution_count": 31,
      "outputs": []
    },
    {
      "cell_type": "code",
      "source": [
        "with torch.no_grad():\n",
        "  last_hidden = bert(**encoded).last_hidden_state.squeeze(0)  # (L_subpieces, 768)"
      ],
      "metadata": {
        "id": "wXcj62kseYqp"
      },
      "execution_count": 32,
      "outputs": []
    },
    {
      "cell_type": "code",
      "source": [
        "from collections import defaultdict\n",
        "word2vecs = defaultdict(list)\n",
        "for sub_i, word_i in enumerate(encoded.word_ids()):\n",
        "    if word_i is not None:\n",
        "        word2vecs[word_i].append(last_hidden[sub_i])\n",
        "\n",
        "#vec_lookup[i] is exactly the BERT embedding for token i in your doc. We need to Average into one 768‑vector:\n",
        "\n",
        "vec_lookup = {}\n",
        "for word_i, vecs in word2vecs.items():\n",
        "    stacked = torch.stack(vecs, dim=0)        # (num_subpieces,768)\n",
        "    vec_lookup[word_i] = stacked.mean(0).to(DEVICE)"
      ],
      "metadata": {
        "id": "f7wWbxe-ek8_"
      },
      "execution_count": 33,
      "outputs": []
    },
    {
      "cell_type": "code",
      "source": [
        "treelstm = ChildSumTreeLSTM(d_in=768, d_hidden=768).to(DEVICE)\n",
        "root_vec, root_c = treelstm(root)"
      ],
      "metadata": {
        "id": "N53VTxD1PeCi"
      },
      "execution_count": 34,
      "outputs": []
    },
    {
      "cell_type": "code",
      "source": [
        "treelstm"
      ],
      "metadata": {
        "colab": {
          "base_uri": "https://localhost:8080/"
        },
        "id": "VocI6W_lgEGS",
        "outputId": "7ec896b3-484a-4f07-c021-6ad73be9442b"
      },
      "execution_count": 35,
      "outputs": [
        {
          "output_type": "execute_result",
          "data": {
            "text/plain": [
              "ChildSumTreeLSTM(\n",
              "  (W_iou): Linear(in_features=768, out_features=2304, bias=True)\n",
              "  (U_iou): Linear(in_features=768, out_features=2304, bias=False)\n",
              "  (W_f): Linear(in_features=768, out_features=768, bias=True)\n",
              "  (U_f): Linear(in_features=768, out_features=768, bias=False)\n",
              ")"
            ]
          },
          "metadata": {},
          "execution_count": 35
        }
      ]
    },
    {
      "cell_type": "code",
      "source": [
        "treelstmwithgates = ChildSumTreeLSTMWithGates(d_in=768, d_hidden=768).to(DEVICE)\n",
        "root_vec, _ = treelstmwithgates(root)"
      ],
      "metadata": {
        "id": "DWI8EhwKibVO"
      },
      "execution_count": 36,
      "outputs": []
    },
    {
      "cell_type": "code",
      "source": [
        "treelstmwithgates"
      ],
      "metadata": {
        "colab": {
          "base_uri": "https://localhost:8080/"
        },
        "id": "iyEbK514ikji",
        "outputId": "11ada7f3-5795-4597-d47e-77212fd3a4d5"
      },
      "execution_count": 37,
      "outputs": [
        {
          "output_type": "execute_result",
          "data": {
            "text/plain": [
              "ChildSumTreeLSTMWithGates(\n",
              "  (W_iou): Linear(in_features=768, out_features=2304, bias=True)\n",
              "  (U_iou): Linear(in_features=768, out_features=2304, bias=False)\n",
              "  (W_f): Linear(in_features=768, out_features=768, bias=True)\n",
              "  (U_f): Linear(in_features=768, out_features=768, bias=False)\n",
              ")"
            ]
          },
          "metadata": {},
          "execution_count": 37
        }
      ]
    },
    {
      "cell_type": "code",
      "execution_count": 38,
      "metadata": {
        "colab": {
          "base_uri": "https://localhost:8080/",
          "height": 982
        },
        "id": "4JzzCfptOD01",
        "outputId": "f642bca2-aa4e-482e-890b-250aece3f47f"
      },
      "outputs": [
        {
          "output_type": "display_data",
          "data": {
            "text/plain": [
              "S \u001b[33mspan\u001b[0m=\u001b[1m(\u001b[0m\u001b[1;36m0\u001b[0m, \u001b[1;36m16\u001b[0m\u001b[1m)\u001b[0m  h\u001b[1m[\u001b[0m\u001b[1;92m0:4\u001b[0m\u001b[1m]\u001b[0m=\u001b[1m[\u001b[0m\u001b[1;36m-0.11140449\u001b[0m \u001b[1;36m-0.3236798\u001b[0m  \u001b[1;36m-0.0653862\u001b[0m  \u001b[1;36m-0.18578115\u001b[0m\u001b[1m]\u001b[0m\n"
            ],
            "text/html": [
              "<pre style=\"white-space:pre;overflow-x:auto;line-height:normal;font-family:Menlo,'DejaVu Sans Mono',consolas,'Courier New',monospace\">S <span style=\"color: #808000; text-decoration-color: #808000\">span</span>=<span style=\"font-weight: bold\">(</span><span style=\"color: #008080; text-decoration-color: #008080; font-weight: bold\">0</span>, <span style=\"color: #008080; text-decoration-color: #008080; font-weight: bold\">16</span><span style=\"font-weight: bold\">)</span>  h<span style=\"font-weight: bold\">[</span><span style=\"color: #00ff00; text-decoration-color: #00ff00; font-weight: bold\">0:4</span><span style=\"font-weight: bold\">]</span>=<span style=\"font-weight: bold\">[</span><span style=\"color: #008080; text-decoration-color: #008080; font-weight: bold\">-0.11140449</span> <span style=\"color: #008080; text-decoration-color: #008080; font-weight: bold\">-0.3236798</span>  <span style=\"color: #008080; text-decoration-color: #008080; font-weight: bold\">-0.0653862</span>  <span style=\"color: #008080; text-decoration-color: #008080; font-weight: bold\">-0.18578115</span><span style=\"font-weight: bold\">]</span>\n",
              "</pre>\n"
            ]
          },
          "metadata": {}
        },
        {
          "output_type": "display_data",
          "data": {
            "text/plain": [
              "  TOKEN \u001b[33mspan\u001b[0m=\u001b[1m(\u001b[0m\u001b[1;36m0\u001b[0m, \u001b[1;36m1\u001b[0m\u001b[1m)\u001b[0m  h\u001b[1m[\u001b[0m\u001b[1;92m0:4\u001b[0m\u001b[1m]\u001b[0m=\u001b[1m[\u001b[0m \u001b[1;36m0.43557644\u001b[0m  \u001b[1;36m0.11574924\u001b[0m  \u001b[1;36m0.30480468\u001b[0m \u001b[1;36m-0.04852528\u001b[0m\u001b[1m]\u001b[0m  \u001b[33mf_gate\u001b[0m=\u001b[1;36m0\u001b[0m\u001b[1;36m.50\u001b[0m\n"
            ],
            "text/html": [
              "<pre style=\"white-space:pre;overflow-x:auto;line-height:normal;font-family:Menlo,'DejaVu Sans Mono',consolas,'Courier New',monospace\">  TOKEN <span style=\"color: #808000; text-decoration-color: #808000\">span</span>=<span style=\"font-weight: bold\">(</span><span style=\"color: #008080; text-decoration-color: #008080; font-weight: bold\">0</span>, <span style=\"color: #008080; text-decoration-color: #008080; font-weight: bold\">1</span><span style=\"font-weight: bold\">)</span>  h<span style=\"font-weight: bold\">[</span><span style=\"color: #00ff00; text-decoration-color: #00ff00; font-weight: bold\">0:4</span><span style=\"font-weight: bold\">]</span>=<span style=\"font-weight: bold\">[</span> <span style=\"color: #008080; text-decoration-color: #008080; font-weight: bold\">0.43557644</span>  <span style=\"color: #008080; text-decoration-color: #008080; font-weight: bold\">0.11574924</span>  <span style=\"color: #008080; text-decoration-color: #008080; font-weight: bold\">0.30480468</span> <span style=\"color: #008080; text-decoration-color: #008080; font-weight: bold\">-0.04852528</span><span style=\"font-weight: bold\">]</span>  <span style=\"color: #808000; text-decoration-color: #808000\">f_gate</span>=<span style=\"color: #008080; text-decoration-color: #008080; font-weight: bold\">0.50</span>\n",
              "</pre>\n"
            ]
          },
          "metadata": {}
        },
        {
          "output_type": "display_data",
          "data": {
            "text/plain": [
              "  TOKEN \u001b[33mspan\u001b[0m=\u001b[1m(\u001b[0m\u001b[1;36m1\u001b[0m, \u001b[1;36m2\u001b[0m\u001b[1m)\u001b[0m  h\u001b[1m[\u001b[0m\u001b[1;92m0:4\u001b[0m\u001b[1m]\u001b[0m=\u001b[1m[\u001b[0m\u001b[1;36m-0.01029376\u001b[0m  \u001b[1;36m0.08047592\u001b[0m  \u001b[1;36m0.18367378\u001b[0m  \u001b[1;36m0.17911749\u001b[0m\u001b[1m]\u001b[0m  \u001b[33mf_gate\u001b[0m=\u001b[1;36m0\u001b[0m\u001b[1;36m.50\u001b[0m\n"
            ],
            "text/html": [
              "<pre style=\"white-space:pre;overflow-x:auto;line-height:normal;font-family:Menlo,'DejaVu Sans Mono',consolas,'Courier New',monospace\">  TOKEN <span style=\"color: #808000; text-decoration-color: #808000\">span</span>=<span style=\"font-weight: bold\">(</span><span style=\"color: #008080; text-decoration-color: #008080; font-weight: bold\">1</span>, <span style=\"color: #008080; text-decoration-color: #008080; font-weight: bold\">2</span><span style=\"font-weight: bold\">)</span>  h<span style=\"font-weight: bold\">[</span><span style=\"color: #00ff00; text-decoration-color: #00ff00; font-weight: bold\">0:4</span><span style=\"font-weight: bold\">]</span>=<span style=\"font-weight: bold\">[</span><span style=\"color: #008080; text-decoration-color: #008080; font-weight: bold\">-0.01029376</span>  <span style=\"color: #008080; text-decoration-color: #008080; font-weight: bold\">0.08047592</span>  <span style=\"color: #008080; text-decoration-color: #008080; font-weight: bold\">0.18367378</span>  <span style=\"color: #008080; text-decoration-color: #008080; font-weight: bold\">0.17911749</span><span style=\"font-weight: bold\">]</span>  <span style=\"color: #808000; text-decoration-color: #808000\">f_gate</span>=<span style=\"color: #008080; text-decoration-color: #008080; font-weight: bold\">0.50</span>\n",
              "</pre>\n"
            ]
          },
          "metadata": {}
        },
        {
          "output_type": "display_data",
          "data": {
            "text/plain": [
              "  VP \u001b[33mspan\u001b[0m=\u001b[1m(\u001b[0m\u001b[1;36m2\u001b[0m, \u001b[1;36m16\u001b[0m\u001b[1m)\u001b[0m  h\u001b[1m[\u001b[0m\u001b[1;92m0:4\u001b[0m\u001b[1m]\u001b[0m=\u001b[1m[\u001b[0m\u001b[1;36m-0.04176749\u001b[0m \u001b[1;36m-0.2852199\u001b[0m   \u001b[1;36m0.09351549\u001b[0m  \u001b[1;36m0.01159996\u001b[0m\u001b[1m]\u001b[0m  \u001b[33mf_gate\u001b[0m=\u001b[1;36m0\u001b[0m\u001b[1;36m.50\u001b[0m\n"
            ],
            "text/html": [
              "<pre style=\"white-space:pre;overflow-x:auto;line-height:normal;font-family:Menlo,'DejaVu Sans Mono',consolas,'Courier New',monospace\">  VP <span style=\"color: #808000; text-decoration-color: #808000\">span</span>=<span style=\"font-weight: bold\">(</span><span style=\"color: #008080; text-decoration-color: #008080; font-weight: bold\">2</span>, <span style=\"color: #008080; text-decoration-color: #008080; font-weight: bold\">16</span><span style=\"font-weight: bold\">)</span>  h<span style=\"font-weight: bold\">[</span><span style=\"color: #00ff00; text-decoration-color: #00ff00; font-weight: bold\">0:4</span><span style=\"font-weight: bold\">]</span>=<span style=\"font-weight: bold\">[</span><span style=\"color: #008080; text-decoration-color: #008080; font-weight: bold\">-0.04176749</span> <span style=\"color: #008080; text-decoration-color: #008080; font-weight: bold\">-0.2852199</span>   <span style=\"color: #008080; text-decoration-color: #008080; font-weight: bold\">0.09351549</span>  <span style=\"color: #008080; text-decoration-color: #008080; font-weight: bold\">0.01159996</span><span style=\"font-weight: bold\">]</span>  <span style=\"color: #808000; text-decoration-color: #808000\">f_gate</span>=<span style=\"color: #008080; text-decoration-color: #008080; font-weight: bold\">0.50</span>\n",
              "</pre>\n"
            ]
          },
          "metadata": {}
        },
        {
          "output_type": "display_data",
          "data": {
            "text/plain": [
              "    TOKEN \u001b[33mspan\u001b[0m=\u001b[1m(\u001b[0m\u001b[1;36m2\u001b[0m, \u001b[1;36m3\u001b[0m\u001b[1m)\u001b[0m  h\u001b[1m[\u001b[0m\u001b[1;92m0:4\u001b[0m\u001b[1m]\u001b[0m=\u001b[1m[\u001b[0m \u001b[1;36m0.04198011\u001b[0m \u001b[1;36m-0.6065556\u001b[0m   \u001b[1;36m0.31695414\u001b[0m  \u001b[1;36m0.3413015\u001b[0m \u001b[1m]\u001b[0m  \u001b[33mf_gate\u001b[0m=\u001b[1;36m0\u001b[0m\u001b[1;36m.50\u001b[0m\n"
            ],
            "text/html": [
              "<pre style=\"white-space:pre;overflow-x:auto;line-height:normal;font-family:Menlo,'DejaVu Sans Mono',consolas,'Courier New',monospace\">    TOKEN <span style=\"color: #808000; text-decoration-color: #808000\">span</span>=<span style=\"font-weight: bold\">(</span><span style=\"color: #008080; text-decoration-color: #008080; font-weight: bold\">2</span>, <span style=\"color: #008080; text-decoration-color: #008080; font-weight: bold\">3</span><span style=\"font-weight: bold\">)</span>  h<span style=\"font-weight: bold\">[</span><span style=\"color: #00ff00; text-decoration-color: #00ff00; font-weight: bold\">0:4</span><span style=\"font-weight: bold\">]</span>=<span style=\"font-weight: bold\">[</span> <span style=\"color: #008080; text-decoration-color: #008080; font-weight: bold\">0.04198011</span> <span style=\"color: #008080; text-decoration-color: #008080; font-weight: bold\">-0.6065556</span>   <span style=\"color: #008080; text-decoration-color: #008080; font-weight: bold\">0.31695414</span>  <span style=\"color: #008080; text-decoration-color: #008080; font-weight: bold\">0.3413015</span> <span style=\"font-weight: bold\">]</span>  <span style=\"color: #808000; text-decoration-color: #808000\">f_gate</span>=<span style=\"color: #008080; text-decoration-color: #008080; font-weight: bold\">0.50</span>\n",
              "</pre>\n"
            ]
          },
          "metadata": {}
        },
        {
          "output_type": "display_data",
          "data": {
            "text/plain": [
              "    TOKEN \u001b[33mspan\u001b[0m=\u001b[1m(\u001b[0m\u001b[1;36m3\u001b[0m, \u001b[1;36m4\u001b[0m\u001b[1m)\u001b[0m  h\u001b[1m[\u001b[0m\u001b[1;92m0:4\u001b[0m\u001b[1m]\u001b[0m=\u001b[1m[\u001b[0m \u001b[1;36m0.79430777\u001b[0m  \u001b[1;36m0.09103965\u001b[0m  \u001b[1;36m0.03536199\u001b[0m \u001b[1;36m-0.01226468\u001b[0m\u001b[1m]\u001b[0m  \u001b[33mf_gate\u001b[0m=\u001b[1;36m0\u001b[0m\u001b[1;36m.50\u001b[0m\n"
            ],
            "text/html": [
              "<pre style=\"white-space:pre;overflow-x:auto;line-height:normal;font-family:Menlo,'DejaVu Sans Mono',consolas,'Courier New',monospace\">    TOKEN <span style=\"color: #808000; text-decoration-color: #808000\">span</span>=<span style=\"font-weight: bold\">(</span><span style=\"color: #008080; text-decoration-color: #008080; font-weight: bold\">3</span>, <span style=\"color: #008080; text-decoration-color: #008080; font-weight: bold\">4</span><span style=\"font-weight: bold\">)</span>  h<span style=\"font-weight: bold\">[</span><span style=\"color: #00ff00; text-decoration-color: #00ff00; font-weight: bold\">0:4</span><span style=\"font-weight: bold\">]</span>=<span style=\"font-weight: bold\">[</span> <span style=\"color: #008080; text-decoration-color: #008080; font-weight: bold\">0.79430777</span>  <span style=\"color: #008080; text-decoration-color: #008080; font-weight: bold\">0.09103965</span>  <span style=\"color: #008080; text-decoration-color: #008080; font-weight: bold\">0.03536199</span> <span style=\"color: #008080; text-decoration-color: #008080; font-weight: bold\">-0.01226468</span><span style=\"font-weight: bold\">]</span>  <span style=\"color: #808000; text-decoration-color: #808000\">f_gate</span>=<span style=\"color: #008080; text-decoration-color: #008080; font-weight: bold\">0.50</span>\n",
              "</pre>\n"
            ]
          },
          "metadata": {}
        },
        {
          "output_type": "display_data",
          "data": {
            "text/plain": [
              "    PP \u001b[33mspan\u001b[0m=\u001b[1m(\u001b[0m\u001b[1;36m4\u001b[0m, \u001b[1;36m10\u001b[0m\u001b[1m)\u001b[0m  h\u001b[1m[\u001b[0m\u001b[1;92m0:4\u001b[0m\u001b[1m]\u001b[0m=\u001b[1m[\u001b[0m\u001b[1;36m-0.00906544\u001b[0m \u001b[1;36m-0.17719044\u001b[0m  \u001b[1;36m0.08635656\u001b[0m  \u001b[1;36m0.07369345\u001b[0m\u001b[1m]\u001b[0m  \u001b[33mf_gate\u001b[0m=\u001b[1;36m0\u001b[0m\u001b[1;36m.50\u001b[0m\n"
            ],
            "text/html": [
              "<pre style=\"white-space:pre;overflow-x:auto;line-height:normal;font-family:Menlo,'DejaVu Sans Mono',consolas,'Courier New',monospace\">    PP <span style=\"color: #808000; text-decoration-color: #808000\">span</span>=<span style=\"font-weight: bold\">(</span><span style=\"color: #008080; text-decoration-color: #008080; font-weight: bold\">4</span>, <span style=\"color: #008080; text-decoration-color: #008080; font-weight: bold\">10</span><span style=\"font-weight: bold\">)</span>  h<span style=\"font-weight: bold\">[</span><span style=\"color: #00ff00; text-decoration-color: #00ff00; font-weight: bold\">0:4</span><span style=\"font-weight: bold\">]</span>=<span style=\"font-weight: bold\">[</span><span style=\"color: #008080; text-decoration-color: #008080; font-weight: bold\">-0.00906544</span> <span style=\"color: #008080; text-decoration-color: #008080; font-weight: bold\">-0.17719044</span>  <span style=\"color: #008080; text-decoration-color: #008080; font-weight: bold\">0.08635656</span>  <span style=\"color: #008080; text-decoration-color: #008080; font-weight: bold\">0.07369345</span><span style=\"font-weight: bold\">]</span>  <span style=\"color: #808000; text-decoration-color: #808000\">f_gate</span>=<span style=\"color: #008080; text-decoration-color: #008080; font-weight: bold\">0.50</span>\n",
              "</pre>\n"
            ]
          },
          "metadata": {}
        },
        {
          "output_type": "display_data",
          "data": {
            "text/plain": [
              "      TOKEN \u001b[33mspan\u001b[0m=\u001b[1m(\u001b[0m\u001b[1;36m4\u001b[0m, \u001b[1;36m5\u001b[0m\u001b[1m)\u001b[0m  h\u001b[1m[\u001b[0m\u001b[1;92m0:4\u001b[0m\u001b[1m]\u001b[0m=\u001b[1m[\u001b[0m\u001b[1;36m-0.15560585\u001b[0m  \u001b[1;36m0.23470472\u001b[0m  \u001b[1;36m0.49581546\u001b[0m \u001b[1;36m-0.09678317\u001b[0m\u001b[1m]\u001b[0m  \u001b[33mf_gate\u001b[0m=\u001b[1;36m0\u001b[0m\u001b[1;36m.50\u001b[0m\n"
            ],
            "text/html": [
              "<pre style=\"white-space:pre;overflow-x:auto;line-height:normal;font-family:Menlo,'DejaVu Sans Mono',consolas,'Courier New',monospace\">      TOKEN <span style=\"color: #808000; text-decoration-color: #808000\">span</span>=<span style=\"font-weight: bold\">(</span><span style=\"color: #008080; text-decoration-color: #008080; font-weight: bold\">4</span>, <span style=\"color: #008080; text-decoration-color: #008080; font-weight: bold\">5</span><span style=\"font-weight: bold\">)</span>  h<span style=\"font-weight: bold\">[</span><span style=\"color: #00ff00; text-decoration-color: #00ff00; font-weight: bold\">0:4</span><span style=\"font-weight: bold\">]</span>=<span style=\"font-weight: bold\">[</span><span style=\"color: #008080; text-decoration-color: #008080; font-weight: bold\">-0.15560585</span>  <span style=\"color: #008080; text-decoration-color: #008080; font-weight: bold\">0.23470472</span>  <span style=\"color: #008080; text-decoration-color: #008080; font-weight: bold\">0.49581546</span> <span style=\"color: #008080; text-decoration-color: #008080; font-weight: bold\">-0.09678317</span><span style=\"font-weight: bold\">]</span>  <span style=\"color: #808000; text-decoration-color: #808000\">f_gate</span>=<span style=\"color: #008080; text-decoration-color: #008080; font-weight: bold\">0.50</span>\n",
              "</pre>\n"
            ]
          },
          "metadata": {}
        },
        {
          "output_type": "display_data",
          "data": {
            "text/plain": [
              "      NP \u001b[33mspan\u001b[0m=\u001b[1m(\u001b[0m\u001b[1;36m5\u001b[0m, \u001b[1;36m10\u001b[0m\u001b[1m)\u001b[0m  h\u001b[1m[\u001b[0m\u001b[1;92m0:4\u001b[0m\u001b[1m]\u001b[0m=\u001b[1m[\u001b[0m\u001b[1;36m-0.3112213\u001b[0m  \u001b[1;36m-0.17248756\u001b[0m \u001b[1;36m-0.01153428\u001b[0m  \u001b[1;36m0.05135421\u001b[0m\u001b[1m]\u001b[0m  \u001b[33mf_gate\u001b[0m=\u001b[1;36m0\u001b[0m\u001b[1;36m.50\u001b[0m\n"
            ],
            "text/html": [
              "<pre style=\"white-space:pre;overflow-x:auto;line-height:normal;font-family:Menlo,'DejaVu Sans Mono',consolas,'Courier New',monospace\">      NP <span style=\"color: #808000; text-decoration-color: #808000\">span</span>=<span style=\"font-weight: bold\">(</span><span style=\"color: #008080; text-decoration-color: #008080; font-weight: bold\">5</span>, <span style=\"color: #008080; text-decoration-color: #008080; font-weight: bold\">10</span><span style=\"font-weight: bold\">)</span>  h<span style=\"font-weight: bold\">[</span><span style=\"color: #00ff00; text-decoration-color: #00ff00; font-weight: bold\">0:4</span><span style=\"font-weight: bold\">]</span>=<span style=\"font-weight: bold\">[</span><span style=\"color: #008080; text-decoration-color: #008080; font-weight: bold\">-0.3112213</span>  <span style=\"color: #008080; text-decoration-color: #008080; font-weight: bold\">-0.17248756</span> <span style=\"color: #008080; text-decoration-color: #008080; font-weight: bold\">-0.01153428</span>  <span style=\"color: #008080; text-decoration-color: #008080; font-weight: bold\">0.05135421</span><span style=\"font-weight: bold\">]</span>  <span style=\"color: #808000; text-decoration-color: #808000\">f_gate</span>=<span style=\"color: #008080; text-decoration-color: #008080; font-weight: bold\">0.50</span>\n",
              "</pre>\n"
            ]
          },
          "metadata": {}
        },
        {
          "output_type": "display_data",
          "data": {
            "text/plain": [
              "        TOKEN \u001b[33mspan\u001b[0m=\u001b[1m(\u001b[0m\u001b[1;36m5\u001b[0m, \u001b[1;36m6\u001b[0m\u001b[1m)\u001b[0m  h\u001b[1m[\u001b[0m\u001b[1;92m0:4\u001b[0m\u001b[1m]\u001b[0m=\u001b[1m[\u001b[0m\u001b[1;36m-0.7993098\u001b[0m  \u001b[1;36m-0.16168717\u001b[0m  \u001b[1;36m0.28838363\u001b[0m  \u001b[1;36m0.26976278\u001b[0m\u001b[1m]\u001b[0m  \u001b[33mf_gate\u001b[0m=\u001b[1;36m0\u001b[0m\u001b[1;36m.50\u001b[0m\n"
            ],
            "text/html": [
              "<pre style=\"white-space:pre;overflow-x:auto;line-height:normal;font-family:Menlo,'DejaVu Sans Mono',consolas,'Courier New',monospace\">        TOKEN <span style=\"color: #808000; text-decoration-color: #808000\">span</span>=<span style=\"font-weight: bold\">(</span><span style=\"color: #008080; text-decoration-color: #008080; font-weight: bold\">5</span>, <span style=\"color: #008080; text-decoration-color: #008080; font-weight: bold\">6</span><span style=\"font-weight: bold\">)</span>  h<span style=\"font-weight: bold\">[</span><span style=\"color: #00ff00; text-decoration-color: #00ff00; font-weight: bold\">0:4</span><span style=\"font-weight: bold\">]</span>=<span style=\"font-weight: bold\">[</span><span style=\"color: #008080; text-decoration-color: #008080; font-weight: bold\">-0.7993098</span>  <span style=\"color: #008080; text-decoration-color: #008080; font-weight: bold\">-0.16168717</span>  <span style=\"color: #008080; text-decoration-color: #008080; font-weight: bold\">0.28838363</span>  <span style=\"color: #008080; text-decoration-color: #008080; font-weight: bold\">0.26976278</span><span style=\"font-weight: bold\">]</span>  <span style=\"color: #808000; text-decoration-color: #808000\">f_gate</span>=<span style=\"color: #008080; text-decoration-color: #008080; font-weight: bold\">0.50</span>\n",
              "</pre>\n"
            ]
          },
          "metadata": {}
        },
        {
          "output_type": "display_data",
          "data": {
            "text/plain": [
              "        ADJP \u001b[33mspan\u001b[0m=\u001b[1m(\u001b[0m\u001b[1;36m6\u001b[0m, \u001b[1;36m8\u001b[0m\u001b[1m)\u001b[0m  h\u001b[1m[\u001b[0m\u001b[1;92m0:4\u001b[0m\u001b[1m]\u001b[0m=\u001b[1m[\u001b[0m\u001b[1;36m-0.0994164\u001b[0m  \u001b[1;36m-0.20873682\u001b[0m \u001b[1;36m-0.01372665\u001b[0m \u001b[1;36m-0.0391055\u001b[0m \u001b[1m]\u001b[0m  \u001b[33mf_gate\u001b[0m=\u001b[1;36m0\u001b[0m\u001b[1;36m.50\u001b[0m\n"
            ],
            "text/html": [
              "<pre style=\"white-space:pre;overflow-x:auto;line-height:normal;font-family:Menlo,'DejaVu Sans Mono',consolas,'Courier New',monospace\">        ADJP <span style=\"color: #808000; text-decoration-color: #808000\">span</span>=<span style=\"font-weight: bold\">(</span><span style=\"color: #008080; text-decoration-color: #008080; font-weight: bold\">6</span>, <span style=\"color: #008080; text-decoration-color: #008080; font-weight: bold\">8</span><span style=\"font-weight: bold\">)</span>  h<span style=\"font-weight: bold\">[</span><span style=\"color: #00ff00; text-decoration-color: #00ff00; font-weight: bold\">0:4</span><span style=\"font-weight: bold\">]</span>=<span style=\"font-weight: bold\">[</span><span style=\"color: #008080; text-decoration-color: #008080; font-weight: bold\">-0.0994164</span>  <span style=\"color: #008080; text-decoration-color: #008080; font-weight: bold\">-0.20873682</span> <span style=\"color: #008080; text-decoration-color: #008080; font-weight: bold\">-0.01372665</span> <span style=\"color: #008080; text-decoration-color: #008080; font-weight: bold\">-0.0391055</span> <span style=\"font-weight: bold\">]</span>  <span style=\"color: #808000; text-decoration-color: #808000\">f_gate</span>=<span style=\"color: #008080; text-decoration-color: #008080; font-weight: bold\">0.50</span>\n",
              "</pre>\n"
            ]
          },
          "metadata": {}
        },
        {
          "output_type": "display_data",
          "data": {
            "text/plain": [
              "          TOKEN \u001b[33mspan\u001b[0m=\u001b[1m(\u001b[0m\u001b[1;36m6\u001b[0m, \u001b[1;36m7\u001b[0m\u001b[1m)\u001b[0m  h\u001b[1m[\u001b[0m\u001b[1;92m0:4\u001b[0m\u001b[1m]\u001b[0m=\u001b[1m[\u001b[0m\u001b[1;36m-0.15110084\u001b[0m \u001b[1;36m-0.30198205\u001b[0m  \u001b[1;36m0.4607488\u001b[0m   \u001b[1;36m0.30006543\u001b[0m\u001b[1m]\u001b[0m  \u001b[33mf_gate\u001b[0m=\u001b[1;36m0\u001b[0m\u001b[1;36m.50\u001b[0m\n"
            ],
            "text/html": [
              "<pre style=\"white-space:pre;overflow-x:auto;line-height:normal;font-family:Menlo,'DejaVu Sans Mono',consolas,'Courier New',monospace\">          TOKEN <span style=\"color: #808000; text-decoration-color: #808000\">span</span>=<span style=\"font-weight: bold\">(</span><span style=\"color: #008080; text-decoration-color: #008080; font-weight: bold\">6</span>, <span style=\"color: #008080; text-decoration-color: #008080; font-weight: bold\">7</span><span style=\"font-weight: bold\">)</span>  h<span style=\"font-weight: bold\">[</span><span style=\"color: #00ff00; text-decoration-color: #00ff00; font-weight: bold\">0:4</span><span style=\"font-weight: bold\">]</span>=<span style=\"font-weight: bold\">[</span><span style=\"color: #008080; text-decoration-color: #008080; font-weight: bold\">-0.15110084</span> <span style=\"color: #008080; text-decoration-color: #008080; font-weight: bold\">-0.30198205</span>  <span style=\"color: #008080; text-decoration-color: #008080; font-weight: bold\">0.4607488</span>   <span style=\"color: #008080; text-decoration-color: #008080; font-weight: bold\">0.30006543</span><span style=\"font-weight: bold\">]</span>  <span style=\"color: #808000; text-decoration-color: #808000\">f_gate</span>=<span style=\"color: #008080; text-decoration-color: #008080; font-weight: bold\">0.50</span>\n",
              "</pre>\n"
            ]
          },
          "metadata": {}
        },
        {
          "output_type": "display_data",
          "data": {
            "text/plain": [
              "          TOKEN \u001b[33mspan\u001b[0m=\u001b[1m(\u001b[0m\u001b[1;36m7\u001b[0m, \u001b[1;36m8\u001b[0m\u001b[1m)\u001b[0m  h\u001b[1m[\u001b[0m\u001b[1;92m0:4\u001b[0m\u001b[1m]\u001b[0m=\u001b[1m[\u001b[0m\u001b[1;36m-0.3020448\u001b[0m  \u001b[1;36m-0.08936671\u001b[0m  \u001b[1;36m0.8598954\u001b[0m   \u001b[1;36m0.04836105\u001b[0m\u001b[1m]\u001b[0m  \u001b[33mf_gate\u001b[0m=\u001b[1;36m0\u001b[0m\u001b[1;36m.50\u001b[0m\n"
            ],
            "text/html": [
              "<pre style=\"white-space:pre;overflow-x:auto;line-height:normal;font-family:Menlo,'DejaVu Sans Mono',consolas,'Courier New',monospace\">          TOKEN <span style=\"color: #808000; text-decoration-color: #808000\">span</span>=<span style=\"font-weight: bold\">(</span><span style=\"color: #008080; text-decoration-color: #008080; font-weight: bold\">7</span>, <span style=\"color: #008080; text-decoration-color: #008080; font-weight: bold\">8</span><span style=\"font-weight: bold\">)</span>  h<span style=\"font-weight: bold\">[</span><span style=\"color: #00ff00; text-decoration-color: #00ff00; font-weight: bold\">0:4</span><span style=\"font-weight: bold\">]</span>=<span style=\"font-weight: bold\">[</span><span style=\"color: #008080; text-decoration-color: #008080; font-weight: bold\">-0.3020448</span>  <span style=\"color: #008080; text-decoration-color: #008080; font-weight: bold\">-0.08936671</span>  <span style=\"color: #008080; text-decoration-color: #008080; font-weight: bold\">0.8598954</span>   <span style=\"color: #008080; text-decoration-color: #008080; font-weight: bold\">0.04836105</span><span style=\"font-weight: bold\">]</span>  <span style=\"color: #808000; text-decoration-color: #808000\">f_gate</span>=<span style=\"color: #008080; text-decoration-color: #008080; font-weight: bold\">0.50</span>\n",
              "</pre>\n"
            ]
          },
          "metadata": {}
        },
        {
          "output_type": "display_data",
          "data": {
            "text/plain": [
              "        TOKEN \u001b[33mspan\u001b[0m=\u001b[1m(\u001b[0m\u001b[1;36m8\u001b[0m, \u001b[1;36m9\u001b[0m\u001b[1m)\u001b[0m  h\u001b[1m[\u001b[0m\u001b[1;92m0:4\u001b[0m\u001b[1m]\u001b[0m=\u001b[1m[\u001b[0m\u001b[1;36m-0.09700058\u001b[0m \u001b[1;36m-0.56845045\u001b[0m  \u001b[1;36m0.8697816\u001b[0m   \u001b[1;36m0.06703834\u001b[0m\u001b[1m]\u001b[0m  \u001b[33mf_gate\u001b[0m=\u001b[1;36m0\u001b[0m\u001b[1;36m.50\u001b[0m\n"
            ],
            "text/html": [
              "<pre style=\"white-space:pre;overflow-x:auto;line-height:normal;font-family:Menlo,'DejaVu Sans Mono',consolas,'Courier New',monospace\">        TOKEN <span style=\"color: #808000; text-decoration-color: #808000\">span</span>=<span style=\"font-weight: bold\">(</span><span style=\"color: #008080; text-decoration-color: #008080; font-weight: bold\">8</span>, <span style=\"color: #008080; text-decoration-color: #008080; font-weight: bold\">9</span><span style=\"font-weight: bold\">)</span>  h<span style=\"font-weight: bold\">[</span><span style=\"color: #00ff00; text-decoration-color: #00ff00; font-weight: bold\">0:4</span><span style=\"font-weight: bold\">]</span>=<span style=\"font-weight: bold\">[</span><span style=\"color: #008080; text-decoration-color: #008080; font-weight: bold\">-0.09700058</span> <span style=\"color: #008080; text-decoration-color: #008080; font-weight: bold\">-0.56845045</span>  <span style=\"color: #008080; text-decoration-color: #008080; font-weight: bold\">0.8697816</span>   <span style=\"color: #008080; text-decoration-color: #008080; font-weight: bold\">0.06703834</span><span style=\"font-weight: bold\">]</span>  <span style=\"color: #808000; text-decoration-color: #808000\">f_gate</span>=<span style=\"color: #008080; text-decoration-color: #008080; font-weight: bold\">0.50</span>\n",
              "</pre>\n"
            ]
          },
          "metadata": {}
        },
        {
          "output_type": "display_data",
          "data": {
            "text/plain": [
              "        TOKEN \u001b[33mspan\u001b[0m=\u001b[1m(\u001b[0m\u001b[1;36m9\u001b[0m, \u001b[1;36m10\u001b[0m\u001b[1m)\u001b[0m  h\u001b[1m[\u001b[0m\u001b[1;92m0:4\u001b[0m\u001b[1m]\u001b[0m=\u001b[1m[\u001b[0m \u001b[1;36m0.4236523\u001b[0m  \u001b[1;36m-0.3426965\u001b[0m   \u001b[1;36m0.3398661\u001b[0m   \u001b[1;36m0.41823518\u001b[0m\u001b[1m]\u001b[0m  \u001b[33mf_gate\u001b[0m=\u001b[1;36m0\u001b[0m\u001b[1;36m.50\u001b[0m\n"
            ],
            "text/html": [
              "<pre style=\"white-space:pre;overflow-x:auto;line-height:normal;font-family:Menlo,'DejaVu Sans Mono',consolas,'Courier New',monospace\">        TOKEN <span style=\"color: #808000; text-decoration-color: #808000\">span</span>=<span style=\"font-weight: bold\">(</span><span style=\"color: #008080; text-decoration-color: #008080; font-weight: bold\">9</span>, <span style=\"color: #008080; text-decoration-color: #008080; font-weight: bold\">10</span><span style=\"font-weight: bold\">)</span>  h<span style=\"font-weight: bold\">[</span><span style=\"color: #00ff00; text-decoration-color: #00ff00; font-weight: bold\">0:4</span><span style=\"font-weight: bold\">]</span>=<span style=\"font-weight: bold\">[</span> <span style=\"color: #008080; text-decoration-color: #008080; font-weight: bold\">0.4236523</span>  <span style=\"color: #008080; text-decoration-color: #008080; font-weight: bold\">-0.3426965</span>   <span style=\"color: #008080; text-decoration-color: #008080; font-weight: bold\">0.3398661</span>   <span style=\"color: #008080; text-decoration-color: #008080; font-weight: bold\">0.41823518</span><span style=\"font-weight: bold\">]</span>  <span style=\"color: #808000; text-decoration-color: #808000\">f_gate</span>=<span style=\"color: #008080; text-decoration-color: #008080; font-weight: bold\">0.50</span>\n",
              "</pre>\n"
            ]
          },
          "metadata": {}
        },
        {
          "output_type": "display_data",
          "data": {
            "text/plain": [
              "    PP \u001b[33mspan\u001b[0m=\u001b[1m(\u001b[0m\u001b[1;36m10\u001b[0m, \u001b[1;36m16\u001b[0m\u001b[1m)\u001b[0m  h\u001b[1m[\u001b[0m\u001b[1;92m0:4\u001b[0m\u001b[1m]\u001b[0m=\u001b[1m[\u001b[0m\u001b[1;36m-0.06563997\u001b[0m \u001b[1;36m-0.15726143\u001b[0m \u001b[1;36m-0.1388634\u001b[0m   \u001b[1;36m0.08341106\u001b[0m\u001b[1m]\u001b[0m  \u001b[33mf_gate\u001b[0m=\u001b[1;36m0\u001b[0m\u001b[1;36m.50\u001b[0m\n"
            ],
            "text/html": [
              "<pre style=\"white-space:pre;overflow-x:auto;line-height:normal;font-family:Menlo,'DejaVu Sans Mono',consolas,'Courier New',monospace\">    PP <span style=\"color: #808000; text-decoration-color: #808000\">span</span>=<span style=\"font-weight: bold\">(</span><span style=\"color: #008080; text-decoration-color: #008080; font-weight: bold\">10</span>, <span style=\"color: #008080; text-decoration-color: #008080; font-weight: bold\">16</span><span style=\"font-weight: bold\">)</span>  h<span style=\"font-weight: bold\">[</span><span style=\"color: #00ff00; text-decoration-color: #00ff00; font-weight: bold\">0:4</span><span style=\"font-weight: bold\">]</span>=<span style=\"font-weight: bold\">[</span><span style=\"color: #008080; text-decoration-color: #008080; font-weight: bold\">-0.06563997</span> <span style=\"color: #008080; text-decoration-color: #008080; font-weight: bold\">-0.15726143</span> <span style=\"color: #008080; text-decoration-color: #008080; font-weight: bold\">-0.1388634</span>   <span style=\"color: #008080; text-decoration-color: #008080; font-weight: bold\">0.08341106</span><span style=\"font-weight: bold\">]</span>  <span style=\"color: #808000; text-decoration-color: #808000\">f_gate</span>=<span style=\"color: #008080; text-decoration-color: #008080; font-weight: bold\">0.50</span>\n",
              "</pre>\n"
            ]
          },
          "metadata": {}
        },
        {
          "output_type": "display_data",
          "data": {
            "text/plain": [
              "      TOKEN \u001b[33mspan\u001b[0m=\u001b[1m(\u001b[0m\u001b[1;36m10\u001b[0m, \u001b[1;36m11\u001b[0m\u001b[1m)\u001b[0m  h\u001b[1m[\u001b[0m\u001b[1;92m0:4\u001b[0m\u001b[1m]\u001b[0m=\u001b[1m[\u001b[0m\u001b[1;36m-0.28316587\u001b[0m \u001b[1;36m-0.5106477\u001b[0m   \u001b[1;36m0.8047624\u001b[0m   \u001b[1;36m0.59328634\u001b[0m\u001b[1m]\u001b[0m  \u001b[33mf_gate\u001b[0m=\u001b[1;36m0\u001b[0m\u001b[1;36m.50\u001b[0m\n"
            ],
            "text/html": [
              "<pre style=\"white-space:pre;overflow-x:auto;line-height:normal;font-family:Menlo,'DejaVu Sans Mono',consolas,'Courier New',monospace\">      TOKEN <span style=\"color: #808000; text-decoration-color: #808000\">span</span>=<span style=\"font-weight: bold\">(</span><span style=\"color: #008080; text-decoration-color: #008080; font-weight: bold\">10</span>, <span style=\"color: #008080; text-decoration-color: #008080; font-weight: bold\">11</span><span style=\"font-weight: bold\">)</span>  h<span style=\"font-weight: bold\">[</span><span style=\"color: #00ff00; text-decoration-color: #00ff00; font-weight: bold\">0:4</span><span style=\"font-weight: bold\">]</span>=<span style=\"font-weight: bold\">[</span><span style=\"color: #008080; text-decoration-color: #008080; font-weight: bold\">-0.28316587</span> <span style=\"color: #008080; text-decoration-color: #008080; font-weight: bold\">-0.5106477</span>   <span style=\"color: #008080; text-decoration-color: #008080; font-weight: bold\">0.8047624</span>   <span style=\"color: #008080; text-decoration-color: #008080; font-weight: bold\">0.59328634</span><span style=\"font-weight: bold\">]</span>  <span style=\"color: #808000; text-decoration-color: #808000\">f_gate</span>=<span style=\"color: #008080; text-decoration-color: #008080; font-weight: bold\">0.50</span>\n",
              "</pre>\n"
            ]
          },
          "metadata": {}
        },
        {
          "output_type": "display_data",
          "data": {
            "text/plain": [
              "      S \u001b[33mspan\u001b[0m=\u001b[1m(\u001b[0m\u001b[1;36m11\u001b[0m, \u001b[1;36m16\u001b[0m\u001b[1m)\u001b[0m  h\u001b[1m[\u001b[0m\u001b[1;92m0:4\u001b[0m\u001b[1m]\u001b[0m=\u001b[1m[\u001b[0m\u001b[1;36m-0.27847162\u001b[0m \u001b[1;36m-0.11608322\u001b[0m \u001b[1;36m-0.18289268\u001b[0m  \u001b[1;36m0.06518108\u001b[0m\u001b[1m]\u001b[0m  \u001b[33mf_gate\u001b[0m=\u001b[1;36m0\u001b[0m\u001b[1;36m.50\u001b[0m\n"
            ],
            "text/html": [
              "<pre style=\"white-space:pre;overflow-x:auto;line-height:normal;font-family:Menlo,'DejaVu Sans Mono',consolas,'Courier New',monospace\">      S <span style=\"color: #808000; text-decoration-color: #808000\">span</span>=<span style=\"font-weight: bold\">(</span><span style=\"color: #008080; text-decoration-color: #008080; font-weight: bold\">11</span>, <span style=\"color: #008080; text-decoration-color: #008080; font-weight: bold\">16</span><span style=\"font-weight: bold\">)</span>  h<span style=\"font-weight: bold\">[</span><span style=\"color: #00ff00; text-decoration-color: #00ff00; font-weight: bold\">0:4</span><span style=\"font-weight: bold\">]</span>=<span style=\"font-weight: bold\">[</span><span style=\"color: #008080; text-decoration-color: #008080; font-weight: bold\">-0.27847162</span> <span style=\"color: #008080; text-decoration-color: #008080; font-weight: bold\">-0.11608322</span> <span style=\"color: #008080; text-decoration-color: #008080; font-weight: bold\">-0.18289268</span>  <span style=\"color: #008080; text-decoration-color: #008080; font-weight: bold\">0.06518108</span><span style=\"font-weight: bold\">]</span>  <span style=\"color: #808000; text-decoration-color: #808000\">f_gate</span>=<span style=\"color: #008080; text-decoration-color: #008080; font-weight: bold\">0.50</span>\n",
              "</pre>\n"
            ]
          },
          "metadata": {}
        },
        {
          "output_type": "display_data",
          "data": {
            "text/plain": [
              "        TOKEN \u001b[33mspan\u001b[0m=\u001b[1m(\u001b[0m\u001b[1;36m11\u001b[0m, \u001b[1;36m12\u001b[0m\u001b[1m)\u001b[0m  h\u001b[1m[\u001b[0m\u001b[1;92m0:4\u001b[0m\u001b[1m]\u001b[0m=\u001b[1m[\u001b[0m\u001b[1;36m-0.21190013\u001b[0m \u001b[1;36m-0.7596964\u001b[0m   \u001b[1;36m0.19129156\u001b[0m  \u001b[1;36m0.12393279\u001b[0m\u001b[1m]\u001b[0m  \u001b[33mf_gate\u001b[0m=\u001b[1;36m0\u001b[0m\u001b[1;36m.50\u001b[0m\n"
            ],
            "text/html": [
              "<pre style=\"white-space:pre;overflow-x:auto;line-height:normal;font-family:Menlo,'DejaVu Sans Mono',consolas,'Courier New',monospace\">        TOKEN <span style=\"color: #808000; text-decoration-color: #808000\">span</span>=<span style=\"font-weight: bold\">(</span><span style=\"color: #008080; text-decoration-color: #008080; font-weight: bold\">11</span>, <span style=\"color: #008080; text-decoration-color: #008080; font-weight: bold\">12</span><span style=\"font-weight: bold\">)</span>  h<span style=\"font-weight: bold\">[</span><span style=\"color: #00ff00; text-decoration-color: #00ff00; font-weight: bold\">0:4</span><span style=\"font-weight: bold\">]</span>=<span style=\"font-weight: bold\">[</span><span style=\"color: #008080; text-decoration-color: #008080; font-weight: bold\">-0.21190013</span> <span style=\"color: #008080; text-decoration-color: #008080; font-weight: bold\">-0.7596964</span>   <span style=\"color: #008080; text-decoration-color: #008080; font-weight: bold\">0.19129156</span>  <span style=\"color: #008080; text-decoration-color: #008080; font-weight: bold\">0.12393279</span><span style=\"font-weight: bold\">]</span>  <span style=\"color: #808000; text-decoration-color: #808000\">f_gate</span>=<span style=\"color: #008080; text-decoration-color: #008080; font-weight: bold\">0.50</span>\n",
              "</pre>\n"
            ]
          },
          "metadata": {}
        },
        {
          "output_type": "display_data",
          "data": {
            "text/plain": [
              "        PP \u001b[33mspan\u001b[0m=\u001b[1m(\u001b[0m\u001b[1;36m12\u001b[0m, \u001b[1;36m16\u001b[0m\u001b[1m)\u001b[0m  h\u001b[1m[\u001b[0m\u001b[1;92m0:4\u001b[0m\u001b[1m]\u001b[0m=\u001b[1m[\u001b[0m\u001b[1;36m-0.17809655\u001b[0m \u001b[1;36m-0.18049572\u001b[0m \u001b[1;36m-0.10570572\u001b[0m  \u001b[1;36m0.06683951\u001b[0m\u001b[1m]\u001b[0m  \u001b[33mf_gate\u001b[0m=\u001b[1;36m0\u001b[0m\u001b[1;36m.50\u001b[0m\n"
            ],
            "text/html": [
              "<pre style=\"white-space:pre;overflow-x:auto;line-height:normal;font-family:Menlo,'DejaVu Sans Mono',consolas,'Courier New',monospace\">        PP <span style=\"color: #808000; text-decoration-color: #808000\">span</span>=<span style=\"font-weight: bold\">(</span><span style=\"color: #008080; text-decoration-color: #008080; font-weight: bold\">12</span>, <span style=\"color: #008080; text-decoration-color: #008080; font-weight: bold\">16</span><span style=\"font-weight: bold\">)</span>  h<span style=\"font-weight: bold\">[</span><span style=\"color: #00ff00; text-decoration-color: #00ff00; font-weight: bold\">0:4</span><span style=\"font-weight: bold\">]</span>=<span style=\"font-weight: bold\">[</span><span style=\"color: #008080; text-decoration-color: #008080; font-weight: bold\">-0.17809655</span> <span style=\"color: #008080; text-decoration-color: #008080; font-weight: bold\">-0.18049572</span> <span style=\"color: #008080; text-decoration-color: #008080; font-weight: bold\">-0.10570572</span>  <span style=\"color: #008080; text-decoration-color: #008080; font-weight: bold\">0.06683951</span><span style=\"font-weight: bold\">]</span>  <span style=\"color: #808000; text-decoration-color: #808000\">f_gate</span>=<span style=\"color: #008080; text-decoration-color: #008080; font-weight: bold\">0.50</span>\n",
              "</pre>\n"
            ]
          },
          "metadata": {}
        },
        {
          "output_type": "display_data",
          "data": {
            "text/plain": [
              "          TOKEN \u001b[33mspan\u001b[0m=\u001b[1m(\u001b[0m\u001b[1;36m12\u001b[0m, \u001b[1;36m13\u001b[0m\u001b[1m)\u001b[0m  h\u001b[1m[\u001b[0m\u001b[1;92m0:4\u001b[0m\u001b[1m]\u001b[0m=\u001b[1m[\u001b[0m\u001b[1;36m-0.39336985\u001b[0m \u001b[1;36m-0.4479483\u001b[0m   \u001b[1;36m0.00229973\u001b[0m  \u001b[1;36m0.27679455\u001b[0m\u001b[1m]\u001b[0m  \u001b[33mf_gate\u001b[0m=\u001b[1;36m0\u001b[0m\u001b[1;36m.50\u001b[0m\n"
            ],
            "text/html": [
              "<pre style=\"white-space:pre;overflow-x:auto;line-height:normal;font-family:Menlo,'DejaVu Sans Mono',consolas,'Courier New',monospace\">          TOKEN <span style=\"color: #808000; text-decoration-color: #808000\">span</span>=<span style=\"font-weight: bold\">(</span><span style=\"color: #008080; text-decoration-color: #008080; font-weight: bold\">12</span>, <span style=\"color: #008080; text-decoration-color: #008080; font-weight: bold\">13</span><span style=\"font-weight: bold\">)</span>  h<span style=\"font-weight: bold\">[</span><span style=\"color: #00ff00; text-decoration-color: #00ff00; font-weight: bold\">0:4</span><span style=\"font-weight: bold\">]</span>=<span style=\"font-weight: bold\">[</span><span style=\"color: #008080; text-decoration-color: #008080; font-weight: bold\">-0.39336985</span> <span style=\"color: #008080; text-decoration-color: #008080; font-weight: bold\">-0.4479483</span>   <span style=\"color: #008080; text-decoration-color: #008080; font-weight: bold\">0.00229973</span>  <span style=\"color: #008080; text-decoration-color: #008080; font-weight: bold\">0.27679455</span><span style=\"font-weight: bold\">]</span>  <span style=\"color: #808000; text-decoration-color: #808000\">f_gate</span>=<span style=\"color: #008080; text-decoration-color: #008080; font-weight: bold\">0.50</span>\n",
              "</pre>\n"
            ]
          },
          "metadata": {}
        },
        {
          "output_type": "display_data",
          "data": {
            "text/plain": [
              "          NP \u001b[33mspan\u001b[0m=\u001b[1m(\u001b[0m\u001b[1;36m13\u001b[0m, \u001b[1;36m16\u001b[0m\u001b[1m)\u001b[0m  h\u001b[1m[\u001b[0m\u001b[1;92m0:4\u001b[0m\u001b[1m]\u001b[0m=\u001b[1m[\u001b[0m\u001b[1;36m-0.32783774\u001b[0m \u001b[1;36m-0.24657156\u001b[0m \u001b[1;36m-0.08244148\u001b[0m  \u001b[1;36m0.04146996\u001b[0m\u001b[1m]\u001b[0m  \u001b[33mf_gate\u001b[0m=\u001b[1;36m0\u001b[0m\u001b[1;36m.50\u001b[0m\n"
            ],
            "text/html": [
              "<pre style=\"white-space:pre;overflow-x:auto;line-height:normal;font-family:Menlo,'DejaVu Sans Mono',consolas,'Courier New',monospace\">          NP <span style=\"color: #808000; text-decoration-color: #808000\">span</span>=<span style=\"font-weight: bold\">(</span><span style=\"color: #008080; text-decoration-color: #008080; font-weight: bold\">13</span>, <span style=\"color: #008080; text-decoration-color: #008080; font-weight: bold\">16</span><span style=\"font-weight: bold\">)</span>  h<span style=\"font-weight: bold\">[</span><span style=\"color: #00ff00; text-decoration-color: #00ff00; font-weight: bold\">0:4</span><span style=\"font-weight: bold\">]</span>=<span style=\"font-weight: bold\">[</span><span style=\"color: #008080; text-decoration-color: #008080; font-weight: bold\">-0.32783774</span> <span style=\"color: #008080; text-decoration-color: #008080; font-weight: bold\">-0.24657156</span> <span style=\"color: #008080; text-decoration-color: #008080; font-weight: bold\">-0.08244148</span>  <span style=\"color: #008080; text-decoration-color: #008080; font-weight: bold\">0.04146996</span><span style=\"font-weight: bold\">]</span>  <span style=\"color: #808000; text-decoration-color: #808000\">f_gate</span>=<span style=\"color: #008080; text-decoration-color: #008080; font-weight: bold\">0.50</span>\n",
              "</pre>\n"
            ]
          },
          "metadata": {}
        },
        {
          "output_type": "display_data",
          "data": {
            "text/plain": [
              "            TOKEN \u001b[33mspan\u001b[0m=\u001b[1m(\u001b[0m\u001b[1;36m13\u001b[0m, \u001b[1;36m14\u001b[0m\u001b[1m)\u001b[0m  h\u001b[1m[\u001b[0m\u001b[1;92m0:4\u001b[0m\u001b[1m]\u001b[0m=\u001b[1m[\u001b[0m\u001b[1;36m-0.09709338\u001b[0m \u001b[1;36m-0.3430503\u001b[0m  \u001b[1;36m-0.09520599\u001b[0m  \u001b[1;36m0.6733825\u001b[0m \u001b[1m]\u001b[0m  \u001b[33mf_gate\u001b[0m=\u001b[1;36m0\u001b[0m\u001b[1;36m.50\u001b[0m\n"
            ],
            "text/html": [
              "<pre style=\"white-space:pre;overflow-x:auto;line-height:normal;font-family:Menlo,'DejaVu Sans Mono',consolas,'Courier New',monospace\">            TOKEN <span style=\"color: #808000; text-decoration-color: #808000\">span</span>=<span style=\"font-weight: bold\">(</span><span style=\"color: #008080; text-decoration-color: #008080; font-weight: bold\">13</span>, <span style=\"color: #008080; text-decoration-color: #008080; font-weight: bold\">14</span><span style=\"font-weight: bold\">)</span>  h<span style=\"font-weight: bold\">[</span><span style=\"color: #00ff00; text-decoration-color: #00ff00; font-weight: bold\">0:4</span><span style=\"font-weight: bold\">]</span>=<span style=\"font-weight: bold\">[</span><span style=\"color: #008080; text-decoration-color: #008080; font-weight: bold\">-0.09709338</span> <span style=\"color: #008080; text-decoration-color: #008080; font-weight: bold\">-0.3430503</span>  <span style=\"color: #008080; text-decoration-color: #008080; font-weight: bold\">-0.09520599</span>  <span style=\"color: #008080; text-decoration-color: #008080; font-weight: bold\">0.6733825</span> <span style=\"font-weight: bold\">]</span>  <span style=\"color: #808000; text-decoration-color: #808000\">f_gate</span>=<span style=\"color: #008080; text-decoration-color: #008080; font-weight: bold\">0.50</span>\n",
              "</pre>\n"
            ]
          },
          "metadata": {}
        },
        {
          "output_type": "display_data",
          "data": {
            "text/plain": [
              "            TOKEN \u001b[33mspan\u001b[0m=\u001b[1m(\u001b[0m\u001b[1;36m14\u001b[0m, \u001b[1;36m15\u001b[0m\u001b[1m)\u001b[0m  h\u001b[1m[\u001b[0m\u001b[1;92m0:4\u001b[0m\u001b[1m]\u001b[0m=\u001b[1m[\u001b[0m \u001b[1;36m0.38479853\u001b[0m  \u001b[1;36m0.32664546\u001b[0m \u001b[1;36m-0.11669878\u001b[0m  \u001b[1;36m0.43857792\u001b[0m\u001b[1m]\u001b[0m  \u001b[33mf_gate\u001b[0m=\u001b[1;36m0\u001b[0m\u001b[1;36m.50\u001b[0m\n"
            ],
            "text/html": [
              "<pre style=\"white-space:pre;overflow-x:auto;line-height:normal;font-family:Menlo,'DejaVu Sans Mono',consolas,'Courier New',monospace\">            TOKEN <span style=\"color: #808000; text-decoration-color: #808000\">span</span>=<span style=\"font-weight: bold\">(</span><span style=\"color: #008080; text-decoration-color: #008080; font-weight: bold\">14</span>, <span style=\"color: #008080; text-decoration-color: #008080; font-weight: bold\">15</span><span style=\"font-weight: bold\">)</span>  h<span style=\"font-weight: bold\">[</span><span style=\"color: #00ff00; text-decoration-color: #00ff00; font-weight: bold\">0:4</span><span style=\"font-weight: bold\">]</span>=<span style=\"font-weight: bold\">[</span> <span style=\"color: #008080; text-decoration-color: #008080; font-weight: bold\">0.38479853</span>  <span style=\"color: #008080; text-decoration-color: #008080; font-weight: bold\">0.32664546</span> <span style=\"color: #008080; text-decoration-color: #008080; font-weight: bold\">-0.11669878</span>  <span style=\"color: #008080; text-decoration-color: #008080; font-weight: bold\">0.43857792</span><span style=\"font-weight: bold\">]</span>  <span style=\"color: #808000; text-decoration-color: #808000\">f_gate</span>=<span style=\"color: #008080; text-decoration-color: #008080; font-weight: bold\">0.50</span>\n",
              "</pre>\n"
            ]
          },
          "metadata": {}
        },
        {
          "output_type": "display_data",
          "data": {
            "text/plain": [
              "            TOKEN \u001b[33mspan\u001b[0m=\u001b[1m(\u001b[0m\u001b[1;36m15\u001b[0m, \u001b[1;36m16\u001b[0m\u001b[1m)\u001b[0m  h\u001b[1m[\u001b[0m\u001b[1;92m0:4\u001b[0m\u001b[1m]\u001b[0m=\u001b[1m[\u001b[0m\u001b[1;36m-0.5020384\u001b[0m  \u001b[1;36m-0.50083125\u001b[0m \u001b[1;36m-0.44417685\u001b[0m \u001b[1;36m-0.06907469\u001b[0m\u001b[1m]\u001b[0m  \u001b[33mf_gate\u001b[0m=\u001b[1;36m0\u001b[0m\u001b[1;36m.50\u001b[0m\n"
            ],
            "text/html": [
              "<pre style=\"white-space:pre;overflow-x:auto;line-height:normal;font-family:Menlo,'DejaVu Sans Mono',consolas,'Courier New',monospace\">            TOKEN <span style=\"color: #808000; text-decoration-color: #808000\">span</span>=<span style=\"font-weight: bold\">(</span><span style=\"color: #008080; text-decoration-color: #008080; font-weight: bold\">15</span>, <span style=\"color: #008080; text-decoration-color: #008080; font-weight: bold\">16</span><span style=\"font-weight: bold\">)</span>  h<span style=\"font-weight: bold\">[</span><span style=\"color: #00ff00; text-decoration-color: #00ff00; font-weight: bold\">0:4</span><span style=\"font-weight: bold\">]</span>=<span style=\"font-weight: bold\">[</span><span style=\"color: #008080; text-decoration-color: #008080; font-weight: bold\">-0.5020384</span>  <span style=\"color: #008080; text-decoration-color: #008080; font-weight: bold\">-0.50083125</span> <span style=\"color: #008080; text-decoration-color: #008080; font-weight: bold\">-0.44417685</span> <span style=\"color: #008080; text-decoration-color: #008080; font-weight: bold\">-0.06907469</span><span style=\"font-weight: bold\">]</span>  <span style=\"color: #808000; text-decoration-color: #808000\">f_gate</span>=<span style=\"color: #008080; text-decoration-color: #008080; font-weight: bold\">0.50</span>\n",
              "</pre>\n"
            ]
          },
          "metadata": {}
        },
        {
          "output_type": "display_data",
          "data": {
            "text/plain": [
              "\n",
              "Sentence embedding \u001b[1m(\u001b[0mroot h\u001b[1m[\u001b[0m\u001b[1;92m0:8\u001b[0m\u001b[1m]\u001b[0m\u001b[1m)\u001b[0m:\n",
              "\u001b[1m[\u001b[0m\n",
              "    \u001b[1;36m-0.11140448600053787\u001b[0m,\n",
              "    \u001b[1;36m-0.3236798048019409\u001b[0m,\n",
              "    \u001b[1;36m-0.06538619846105576\u001b[0m,\n",
              "    \u001b[1;36m-0.18578115105628967\u001b[0m,\n",
              "    \u001b[1;36m0.2561306357383728\u001b[0m,\n",
              "    \u001b[1;36m0.09066326171159744\u001b[0m,\n",
              "    \u001b[1;36m0.25311046838760376\u001b[0m,\n",
              "    \u001b[1;36m-0.22635819017887115\u001b[0m\n",
              "\u001b[1m]\u001b[0m\n"
            ],
            "text/html": [
              "<pre style=\"white-space:pre;overflow-x:auto;line-height:normal;font-family:Menlo,'DejaVu Sans Mono',consolas,'Courier New',monospace\">\n",
              "Sentence embedding <span style=\"font-weight: bold\">(</span>root h<span style=\"font-weight: bold\">[</span><span style=\"color: #00ff00; text-decoration-color: #00ff00; font-weight: bold\">0:8</span><span style=\"font-weight: bold\">])</span>:\n",
              "<span style=\"font-weight: bold\">[</span>\n",
              "    <span style=\"color: #008080; text-decoration-color: #008080; font-weight: bold\">-0.11140448600053787</span>,\n",
              "    <span style=\"color: #008080; text-decoration-color: #008080; font-weight: bold\">-0.3236798048019409</span>,\n",
              "    <span style=\"color: #008080; text-decoration-color: #008080; font-weight: bold\">-0.06538619846105576</span>,\n",
              "    <span style=\"color: #008080; text-decoration-color: #008080; font-weight: bold\">-0.18578115105628967</span>,\n",
              "    <span style=\"color: #008080; text-decoration-color: #008080; font-weight: bold\">0.2561306357383728</span>,\n",
              "    <span style=\"color: #008080; text-decoration-color: #008080; font-weight: bold\">0.09066326171159744</span>,\n",
              "    <span style=\"color: #008080; text-decoration-color: #008080; font-weight: bold\">0.25311046838760376</span>,\n",
              "    <span style=\"color: #008080; text-decoration-color: #008080; font-weight: bold\">-0.22635819017887115</span>\n",
              "<span style=\"font-weight: bold\">]</span>\n",
              "</pre>\n"
            ]
          },
          "metadata": {}
        },
        {
          "output_type": "display_data",
          "data": {
            "text/plain": [
              "<Figure size 640x480 with 2 Axes>"
            ],
            "image/png": "[encoded data removed]"
          },
          "metadata": {}
        }
      ],
      "source": [
        "# Child‑Sum Tree‑LSTM implementation and Viz (ugly graph, however I plan on making it pretty, genertive, and 3d.\n",
        "import networkx as nx\n",
        "import matplotlib.pyplot as plt\n",
        "\n",
        "# A) Show function that also prints any f_gate on *children*\n",
        "def show(node, depth=0):\n",
        "    pad  = \"  \" * depth\n",
        "    gate = f\"  f_gate={node.f_gate:.2f}\" if hasattr(node, \"f_gate\") else \"\"\n",
        "    # detach before moving to numpy\n",
        "    h4   = node.h[:4].detach().cpu().numpy()\n",
        "    print(f\"{pad}{node.label} span={node.span}  h[0:4]={h4}{gate}\")\n",
        "    for ch in node.children:\n",
        "        show(ch, depth+1)\n",
        "\n",
        "show(root)\n",
        "print(\"\\nSentence embedding (root h[0:8]):\", root.h[:8].detach().tolist())\n",
        "\n",
        "# B) Build graph and draw with edge colours = forget‐gate\n",
        "G = nx.DiGraph()\n",
        "def add_edges(G, node, parent=None):\n",
        "    if parent is not None:\n",
        "        G.add_edge(parent, node)\n",
        "    for ch in node.children:\n",
        "        add_edges(G, ch, node)\n",
        "\n",
        "add_edges(G, root)\n",
        "\n",
        "# extract edge colours (child.f_gate on each edge)\n",
        "edges      = list(G.edges())\n",
        "edge_colors = [child.f_gate for _,child in edges]\n",
        "\n",
        "# Create a figure and an axes explicitly\n",
        "fig, ax = plt.subplots()\n",
        "\n",
        "pos = nx.spring_layout(G)   # or graphviz_layout if you have pygraphviz\n",
        "nx.draw(\n",
        "    G, pos,\n",
        "    with_labels=True,\n",
        "    arrows=False,\n",
        "    node_size=300,\n",
        "    edge_color=edge_colors,\n",
        "    edge_cmap=plt.cm.Blues,\n",
        "    width=2,\n",
        "    ax=ax # Associate the graph with the axes\n",
        ")\n",
        "sm = plt.cm.ScalarMappable(cmap=plt.cm.Blues,\n",
        "                           norm=plt.Normalize(vmin=min(edge_colors),\n",
        "                                              vmax=max(edge_colors)))\n",
        "sm.set_array([])\n",
        "\n",
        "# Now, provide the 'ax' argument to colorbar\n",
        "plt.colorbar(sm, ax=ax, label=\"mean forget‒gate\")\n",
        "plt.show()"
      ]
    },
    {
      "cell_type": "code",
      "source": [],
      "metadata": {
        "id": "pAkfcSTMIZAz"
      },
      "execution_count": 38,
      "outputs": []
    }
  ]
}